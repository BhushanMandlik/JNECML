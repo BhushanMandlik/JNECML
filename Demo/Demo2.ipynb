{
  "nbformat": 4,
  "nbformat_minor": 0,
  "metadata": {
    "colab": {
      "name": "Demo.ipynb",
      "version": "0.3.2",
      "provenance": [],
      "collapsed_sections": []
    },
    "kernelspec": {
      "name": "python2",
      "display_name": "Python 2"
    },
    "accelerator": "GPU"
  },
  "cells": [
    {
      "cell_type": "markdown",
      "metadata": {
        "id": "Q9empigDRIw8",
        "colab_type": "text"
      },
      "source": [
        "## Python 2 notebook"
      ]
    },
    {
      "cell_type": "code",
      "metadata": {
        "id": "6UkhhAFOUvGI",
        "colab_type": "code",
        "colab": {}
      },
      "source": [
        "a=1000121231L\n"
      ],
      "execution_count": 0,
      "outputs": []
    },
    {
      "cell_type": "code",
      "metadata": {
        "id": "DPi1Xbb7Uypa",
        "colab_type": "code",
        "outputId": "7c34596c-ad78-43ff-9c36-ba5bf38849e8",
        "colab": {
          "base_uri": "https://localhost:8080/",
          "height": 34
        }
      },
      "source": [
        "print(type(a))"
      ],
      "execution_count": 0,
      "outputs": [
        {
          "output_type": "stream",
          "text": [
            "<type 'long'>\n"
          ],
          "name": "stdout"
        }
      ]
    },
    {
      "cell_type": "code",
      "metadata": {
        "id": "DF7SWxdBU2If",
        "colab_type": "code",
        "colab": {}
      },
      "source": [
        ""
      ],
      "execution_count": 0,
      "outputs": []
    }
  ]
}