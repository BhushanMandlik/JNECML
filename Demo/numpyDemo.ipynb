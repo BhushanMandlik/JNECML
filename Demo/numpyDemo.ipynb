{
  "nbformat": 4,
  "nbformat_minor": 0,
  "metadata": {
    "colab": {
      "name": "numpyDemo.ipynb",
      "version": "0.3.2",
      "provenance": [],
      "collapsed_sections": []
    },
    "kernelspec": {
      "name": "python3",
      "display_name": "Python 3"
    },
    "accelerator": "GPU"
  },
  "cells": [
    {
      "cell_type": "code",
      "metadata": {
        "id": "MCRj5GxAXttu",
        "colab_type": "code",
        "colab": {}
      },
      "source": [
        "import numpy as np\n",
        "\n"
      ],
      "execution_count": 0,
      "outputs": []
    },
    {
      "cell_type": "code",
      "metadata": {
        "id": "LqfcvibTZE-B",
        "colab_type": "code",
        "outputId": "8000bc78-a6ce-4883-a7c8-89bf7ee30b05",
        "colab": {
          "base_uri": "https://localhost:8080/",
          "height": 102
        }
      },
      "source": [
        "a=np.array([1,2,3])\n",
        "\n",
        "print(a)\n",
        "print(a.shape)\n",
        "print(a.ndim)\n",
        "print(a.dtype)\n",
        "\n",
        "b=np.array([1.0,2.2,3.5])\n",
        "print(b.dtype)"
      ],
      "execution_count": 0,
      "outputs": [
        {
          "output_type": "stream",
          "text": [
            "[1 2 3]\n",
            "(3,)\n",
            "1\n",
            "int64\n",
            "float64\n"
          ],
          "name": "stdout"
        }
      ]
    },
    {
      "cell_type": "code",
      "metadata": {
        "id": "DGcPbfeqar4e",
        "colab_type": "code",
        "outputId": "f0e64f43-92e1-4bdf-98c3-0111fed8ae87",
        "colab": {
          "base_uri": "https://localhost:8080/",
          "height": 323
        }
      },
      "source": [
        "c=np.array([(1,2,3),(3,4,5)])\n",
        "print(c)\n",
        "print(c.ndim)\n",
        "print(c.shape)\n",
        "print(c.size)\n",
        "print(np.sum(c))\n",
        "d=c.flatten()\n",
        "print(d)\n",
        "print(d.ndim)\n",
        "print(c)\n",
        "print(d[0])\n",
        "d[0]=100\n",
        "print(d)\n",
        "print(c)\n",
        "e=c.ravel()\n",
        "print(e)\n",
        "e[0]=100\n",
        "print(e)\n",
        "print(c)"
      ],
      "execution_count": 0,
      "outputs": [
        {
          "output_type": "stream",
          "text": [
            "[[1 2 3]\n",
            " [3 4 5]]\n",
            "2\n",
            "(2, 3)\n",
            "6\n",
            "18\n",
            "[1 2 3 3 4 5]\n",
            "1\n",
            "[[1 2 3]\n",
            " [3 4 5]]\n",
            "1\n",
            "[100   2   3   3   4   5]\n",
            "[[1 2 3]\n",
            " [3 4 5]]\n",
            "[1 2 3 3 4 5]\n",
            "[100   2   3   3   4   5]\n",
            "[[100   2   3]\n",
            " [  3   4   5]]\n"
          ],
          "name": "stdout"
        }
      ]
    },
    {
      "cell_type": "code",
      "metadata": {
        "id": "4DTeZYLjce_c",
        "colab_type": "code",
        "outputId": "c781a352-ddd6-4719-dfb1-8d4ebcacf3c9",
        "colab": {
          "base_uri": "https://localhost:8080/",
          "height": 119
        }
      },
      "source": [
        "one=np.ones((3,3))\n",
        "print(one)\n",
        "#help(np.ones)\n",
        "zero=np.zeros((3,3))\n",
        "print(zero)"
      ],
      "execution_count": 0,
      "outputs": [
        {
          "output_type": "stream",
          "text": [
            "[[1. 1. 1.]\n",
            " [1. 1. 1.]\n",
            " [1. 1. 1.]]\n",
            "[[0. 0. 0.]\n",
            " [0. 0. 0.]\n",
            " [0. 0. 0.]]\n"
          ],
          "name": "stdout"
        }
      ]
    },
    {
      "cell_type": "code",
      "metadata": {
        "id": "EV6HIqQAdRrL",
        "colab_type": "code",
        "outputId": "2491de34-7f3d-42bf-a5c3-11252b68e38e",
        "colab": {
          "base_uri": "https://localhost:8080/",
          "height": 153
        }
      },
      "source": [
        "arr=np.array([(1,2,3),(4,5,6),(7,8,9)])\n",
        "print(arr)\n",
        "print(arr.ndim)\n",
        "print(arr.shape)\n",
        "print(arr[0:3,0:3:2])"
      ],
      "execution_count": 0,
      "outputs": [
        {
          "output_type": "stream",
          "text": [
            "[[1 2 3]\n",
            " [4 5 6]\n",
            " [7 8 9]]\n",
            "2\n",
            "(3, 3)\n",
            "[[1 3]\n",
            " [4 6]\n",
            " [7 9]]\n"
          ],
          "name": "stdout"
        }
      ]
    }
  ]
}