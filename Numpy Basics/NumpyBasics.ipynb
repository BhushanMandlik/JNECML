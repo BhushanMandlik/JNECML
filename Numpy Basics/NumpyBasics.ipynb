{
  "nbformat": 4,
  "nbformat_minor": 0,
  "metadata": {
    "colab": {
      "name": "NumpyBasics.ipynb",
      "version": "0.3.2",
      "provenance": [],
      "collapsed_sections": [
        "5BwQxRHsNkvS",
        "VgHsonFiQDkC",
        "LlXc35dYPnph"
      ]
    },
    "kernelspec": {
      "name": "python3",
      "display_name": "Python 3"
    }
  },
  "cells": [
    {
      "cell_type": "markdown",
      "metadata": {
        "id": "NnUdVgoyNPwA",
        "colab_type": "text"
      },
      "source": [
        "#Numpy Basics\n",
        "\n",
        "Numpy is a general-purpose array-processing package. It provides a high-performance multidimensional array object, and tools for working with these arrays. It is the fundamental package for scientific computing with Python."
      ]
    },
    {
      "cell_type": "markdown",
      "metadata": {
        "id": "0VzjGd1zRHjN",
        "colab_type": "text"
      },
      "source": [
        "For installing Numpy package through Jupyter Notebook Environment\n",
        "Syntax: \n",
        "!pip install numpy"
      ]
    },
    {
      "cell_type": "markdown",
      "metadata": {
        "id": "5BwQxRHsNkvS",
        "colab_type": "text"
      },
      "source": [
        "##Creating a Numpy Array"
      ]
    },
    {
      "cell_type": "code",
      "metadata": {
        "id": "9DXS1t_XNSjT",
        "colab_type": "code",
        "outputId": "47b5c941-bcb3-40a9-f1dd-2430a7b4f24a",
        "colab": {
          "base_uri": "https://localhost:8080/",
          "height": 153
        }
      },
      "source": [
        "#Note: Type of array can be explicitly defined while creating the array.\n",
        "\n",
        "# Creation of Arrays\n",
        "import numpy as np\n",
        " \n",
        "# Creating a rank 1 Array\n",
        "arr = np.array([1, 2, 3])\n",
        "print(\"Array with Rank 1: \\n\",arr)\n",
        " \n",
        "# Creating a rank 2 Array\n",
        "arr = np.array([[1, 2, 3],\n",
        "                [4, 5, 6]])\n",
        "print(\"Array with Rank 2: \\n\", arr)\n",
        " \n",
        "# Creating an array from tuple\n",
        "arr = np.array((1, 3, 2))\n",
        "print(\"\\nArray created using passed tuple:\\n\", arr)\n"
      ],
      "execution_count": 0,
      "outputs": [
        {
          "output_type": "stream",
          "text": [
            "Array with Rank 1: \n",
            " [1 2 3]\n",
            "Array with Rank 2: \n",
            " [[1 2 3]\n",
            " [4 5 6]]\n",
            "\n",
            "Array created using passed tuple:\n",
            " [1 3 2]\n"
          ],
          "name": "stdout"
        }
      ]
    },
    {
      "cell_type": "code",
      "metadata": {
        "id": "rRvjWfCUSR1M",
        "colab_type": "code",
        "outputId": "dbfbd6c5-da79-48e4-a956-2a412ad5782b",
        "colab": {
          "base_uri": "https://localhost:8080/",
          "height": 102
        }
      },
      "source": [
        "# basic array characteristics \n",
        "import numpy as np \n",
        "  \n",
        "# Creating array object \n",
        "arr = np.array( [[ 1, 2, 3], \n",
        "                 [ 4, 2, 5]] ) \n",
        "  \n",
        "# Printing type of arr object \n",
        "print(\"Array is of type: \", type(arr)) \n",
        "  \n",
        "# Printing array dimensions (axes) \n",
        "print(\"No. of dimensions: \", arr.ndim) \n",
        "  \n",
        "# Printing shape of array \n",
        "print(\"Shape of array: \", arr.shape) \n",
        "  \n",
        "# Printing size (total number of elements) of array \n",
        "print(\"Size of array: \", arr.size) \n",
        "  \n",
        "# Printing type of elements in array \n",
        "print(\"Array stores elements of type: \", arr.dtype)"
      ],
      "execution_count": 0,
      "outputs": [
        {
          "output_type": "stream",
          "text": [
            "Array is of type:  <class 'numpy.ndarray'>\n",
            "No. of dimensions:  2\n",
            "Shape of array:  (2, 3)\n",
            "Size of array:  6\n",
            "Array stores elements of type:  int64\n"
          ],
          "name": "stdout"
        }
      ]
    },
    {
      "cell_type": "code",
      "metadata": {
        "id": "4uXdvJs_SlpQ",
        "colab_type": "code",
        "outputId": "1bac39cf-f0e4-4f34-c87b-037826828a84",
        "colab": {
          "base_uri": "https://localhost:8080/",
          "height": 816
        }
      },
      "source": [
        "# array creation techniques \n",
        "import numpy as np \n",
        "  \n",
        "# Creating array from list with type float \n",
        "a = np.array([[1, 2, 4], [5, 8, 7]], dtype = 'float') \n",
        "print (\"Array created using passed list:\\n\", a) \n",
        "  \n",
        "# Creating array from tuple \n",
        "b = np.array((1 , 3, 2)) \n",
        "print (\"\\nArray created using passed tuple:\\n\", b) \n",
        "  \n",
        "# Creating a 3X4 array with all zeros \n",
        "c = np.zeros((3, 4)) \n",
        "print (\"\\nAn array initialized with all zeros:\\n\", c) \n",
        "  \n",
        "# Create a constant value array of complex type \n",
        "d = np.full((3, 3), 6, dtype = 'complex') \n",
        "print (\"\\nAn array initialized with all 6s.\" \n",
        "            \"Array type is complex:\\n\", d) \n",
        "  \n",
        "# Create an array with random values \n",
        "e = np.random.random((2, 2)) \n",
        "print (\"\\nA random array:\\n\", e) \n",
        "  \n",
        "# Create a sequence of integers  \n",
        "# from 0 to 30 with steps of 5 \n",
        "f = np.arange(0, 30, 5) \n",
        "print (\"\\nA sequential array with steps of 5:\\n\", f) \n",
        "\n",
        "# Create a sequence of integers from 10 to 1 with a step of -2 \n",
        "a = np.arange(10, 1, -2)  \n",
        "print(\"\\n A sequential array with a negative step: \\n\",a) \n",
        "  \n",
        "# Create a sequence of 10 values in range 0 to 5 \n",
        "g = np.linspace(0, 5, 10) \n",
        "print (\"\\nA sequential array with 10 values between\"\n",
        "                                        \"0 and 5:\\n\", g) \n",
        "  \n",
        "# Reshaping 3X4 array to 2X2X3 array \n",
        "arr = np.array([[1, 2, 3, 4], \n",
        "                [5, 2, 4, 2], \n",
        "                [1, 2, 0, 1]]) \n",
        "  \n",
        "newarr = arr.reshape(2, 2, 3) \n",
        "  \n",
        "print (\"\\nOriginal array:\\n\", arr) \n",
        "print (\"Reshaped array:\\n\", newarr) \n",
        "  \n",
        "# Flatten array \n",
        "arr = np.array([[1, 2, 3], [4, 5, 6]]) \n",
        "flarr = arr.flatten() \n",
        "  \n",
        "print (\"\\nOriginal array:\\n\", arr) \n",
        "print (\"Fattened array:\\n\", flarr) "
      ],
      "execution_count": 0,
      "outputs": [
        {
          "output_type": "stream",
          "text": [
            "Array created using passed list:\n",
            " [[1. 2. 4.]\n",
            " [5. 8. 7.]]\n",
            "\n",
            "Array created using passed tuple:\n",
            " [1 3 2]\n",
            "\n",
            "An array initialized with all zeros:\n",
            " [[0. 0. 0. 0.]\n",
            " [0. 0. 0. 0.]\n",
            " [0. 0. 0. 0.]]\n",
            "\n",
            "An array initialized with all 6s.Array type is complex:\n",
            " [[6.+0.j 6.+0.j 6.+0.j]\n",
            " [6.+0.j 6.+0.j 6.+0.j]\n",
            " [6.+0.j 6.+0.j 6.+0.j]]\n",
            "\n",
            "A random array:\n",
            " [[0.92158227 0.55631644]\n",
            " [0.66143438 0.96513024]]\n",
            "\n",
            "A sequential array with steps of 5:\n",
            " [ 0  5 10 15 20 25]\n",
            "\n",
            " A sequential array with a negative step: \n",
            " [10  8  6  4  2]\n",
            "\n",
            "A sequential array with 10 values between0 and 5:\n",
            " [0.         0.55555556 1.11111111 1.66666667 2.22222222 2.77777778\n",
            " 3.33333333 3.88888889 4.44444444 5.        ]\n",
            "\n",
            "Original array:\n",
            " [[1 2 3 4]\n",
            " [5 2 4 2]\n",
            " [1 2 0 1]]\n",
            "Reshaped array:\n",
            " [[[1 2 3]\n",
            "  [4 5 2]]\n",
            "\n",
            " [[4 2 1]\n",
            "  [2 0 1]]]\n",
            "\n",
            "Original array:\n",
            " [[1 2 3]\n",
            " [4 5 6]]\n",
            "Fattened array:\n",
            " [1 2 3 4 5 6]\n"
          ],
          "name": "stdout"
        }
      ]
    },
    {
      "cell_type": "markdown",
      "metadata": {
        "id": "VgHsonFiQDkC",
        "colab_type": "text"
      },
      "source": [
        "##Datatype Object in Numpy"
      ]
    },
    {
      "cell_type": "code",
      "metadata": {
        "id": "trZxPM98QLHo",
        "colab_type": "code",
        "outputId": "d088e5ea-dfa9-4b97-e337-0938979d806f",
        "colab": {
          "base_uri": "https://localhost:8080/",
          "height": 153
        }
      },
      "source": [
        "# a data type object\n",
        "import numpy as np\n",
        " \n",
        "# Integer datatype\n",
        "# guessed by Numpy\n",
        "x = np.array([1, 2])  \n",
        "print(\"Integer Datatype: \")\n",
        "print(x.dtype)         \n",
        " \n",
        "# Float datatype\n",
        "# guessed by Numpy\n",
        "x = np.array([1.0, 2.0]) \n",
        "print(\"\\nFloat Datatype: \")\n",
        "print(x.dtype)  \n",
        " \n",
        "# Forced Datatype\n",
        "x = np.array([1, 2], dtype = np.int64)   \n",
        "print(\"\\nForcing a Datatype: \")\n",
        "print(x.dtype)"
      ],
      "execution_count": 0,
      "outputs": [
        {
          "output_type": "stream",
          "text": [
            "Integer Datatype: \n",
            "int64\n",
            "\n",
            "Float Datatype: \n",
            "float64\n",
            "\n",
            "Forcing a Datatype: \n",
            "int64\n"
          ],
          "name": "stdout"
        }
      ]
    },
    {
      "cell_type": "markdown",
      "metadata": {
        "id": "LlXc35dYPnph",
        "colab_type": "text"
      },
      "source": [
        "##Accessing array index\n",
        "\n",
        "**Slicing:** Just like lists in python, NumPy arrays can be sliced. As arrays can be multidimensional, you need to specify a slice for each dimension of the array.\n",
        "\n",
        "**Integer array indexing:** In this method, lists are passed for indexing for each dimension. One to one mapping of corresponding elements is done to construct a new arbitrary array.\n",
        "\n",
        "**Boolean array indexing:** This method is used when we want to pick elements from array which satisfy some condition."
      ]
    },
    {
      "cell_type": "code",
      "metadata": {
        "id": "14TJF18tYly4",
        "colab_type": "code",
        "outputId": "9b5cc26c-248e-4217-d57a-c3b3465c3927",
        "colab": {
          "base_uri": "https://localhost:8080/",
          "height": 204
        }
      },
      "source": [
        "# Python program for basic slicing. \n",
        "import numpy as np \n",
        "  \n",
        "# Arrange elements from 0 to 19 \n",
        "a = np.arange(20) \n",
        "print(\"\\n Array is:\\n \",a) \n",
        "  \n",
        "# a[start:stop:step] \n",
        "print(\"\\n a[-8:17:1]  = \",a[-8:17:1])  \n",
        "  \n",
        "# The : operator means all elements till the end. \n",
        "print(\"\\n a[10:]  = \",a[10:]) \n",
        "\n",
        "# A 3 dimensional array. \n",
        "b = np.array([[[1, 2, 3],[4, 5, 6]], \n",
        "              [[7, 8, 9],[10, 11, 12]]]) \n",
        "  \n",
        "print(b[...,1]) #Equivalent to b[: ,: ,1 ] \n",
        "\n",
        "# here index positions are (0,0),(1,0),(2,1) and the corresponding elements are selected.\n",
        "a = np.array([[1 ,2 ],[3 ,4 ],[5 ,6 ]]) \n",
        "print(a[[0 ,1 ,2 ],[0 ,0 ,1]]) \n",
        "\n",
        "#boolean indexing\n",
        "a = np.array([10, 40, 80, 50, 100]) \n",
        "print(a[a>50]) "
      ],
      "execution_count": 0,
      "outputs": [
        {
          "output_type": "stream",
          "text": [
            "\n",
            " Array is:\n",
            "  [ 0  1  2  3  4  5  6  7  8  9 10 11 12 13 14 15 16 17 18 19]\n",
            "\n",
            " a[-8:17:1]  =  [12 13 14 15 16]\n",
            "\n",
            " a[10:]  =  [10 11 12 13 14 15 16 17 18 19]\n",
            "[[ 2  5]\n",
            " [ 8 11]]\n",
            "[1 3 6]\n",
            "[ 80 100]\n"
          ],
          "name": "stdout"
        }
      ]
    },
    {
      "cell_type": "code",
      "metadata": {
        "id": "8Sz812YKOZ2i",
        "colab_type": "code",
        "outputId": "02da2ac8-29ef-4070-e3b6-a0c431bee3b0",
        "colab": {
          "base_uri": "https://localhost:8080/",
          "height": 255
        }
      },
      "source": [
        "# indexing in numpy array\n",
        "import numpy as np\n",
        " \n",
        "# Initial Array\n",
        "arr = np.array([[-1, 2, 0, 4],\n",
        "                [4, -0.5, 6, 0],\n",
        "                [2.6, 0, 7, 8],\n",
        "                [3, -7, 4, 2.0]])\n",
        "print(\"Initial Array: \")\n",
        "print(arr)\n",
        " \n",
        "# Printing a range of Array\n",
        "# with the use of slicing method\n",
        "sliced_arr = arr[:2, ::2]\n",
        "print (\"Array with first 2 rows and\"\n",
        "    \" alternate columns(0 and 2):\\n\", sliced_arr)\n",
        "\n",
        "# Create a sequence of integers from 10 to 1 with a step of -2 \n",
        "a = np.arange(10, 1, -2)  \n",
        "print(\"\\n A sequential array with a negative step: \\n\",a) \n",
        "  \n",
        "# Indexes are specified inside the np.array method. \n",
        "newarr = a[np.array([3, 1, 2 ])] \n",
        "print(\"\\n Elements at these indices are:\\n\",newarr) \n",
        "\n",
        "# NumPy array with elements from 1 to 9 \n",
        "x = np.array([1, 2, 3, 4, 5, 6, 7, 8, 9]) \n",
        "  \n",
        "# Index values can be negative. \n",
        "arr = x[np.array([1, 3, -3])] \n",
        "print(\"\\n Elements are : \\n\",arr) \n",
        "\n",
        "# Printing elements at\n",
        "# specific Indices\n",
        "Index_arr = arr[[1, 1, 0, 3], \n",
        "                [3, 2, 1, 0]]\n",
        "print (\"\\nElements at indices (1, 3), \"\n",
        "    \"(1, 2), (0, 1), (3, 0):\\n\", Index_arr)\n",
        "\n",
        "\n",
        "# boolean array indexing example \n",
        "cond = arr > 0 # cond is a boolean array \n",
        "temp = arr[cond] \n",
        "print (\"\\nElements greater than 0:\\n\", temp) "
      ],
      "execution_count": 0,
      "outputs": [
        {
          "output_type": "stream",
          "text": [
            "Initial Array: \n",
            "[[-1.   2.   0.   4. ]\n",
            " [ 4.  -0.5  6.   0. ]\n",
            " [ 2.6  0.   7.   8. ]\n",
            " [ 3.  -7.   4.   2. ]]\n",
            "Array with first 2 rows and alternate columns(0 and 2):\n",
            " [[-1.  0.]\n",
            " [ 4.  6.]]\n",
            "\n",
            "Elements at indices (1, 3), (1, 2), (0, 1), (3, 0):\n",
            " [0. 6. 2. 3.]\n",
            "\n",
            "Elements greater than 0:\n",
            " [2.  4.  4.  6.  2.6 7.  8.  3.  4.  2. ]\n"
          ],
          "name": "stdout"
        }
      ]
    },
    {
      "cell_type": "markdown",
      "metadata": {
        "id": "DlnvtPWUPvUa",
        "colab_type": "text"
      },
      "source": [
        "##Basic Array Operations"
      ]
    },
    {
      "cell_type": "code",
      "metadata": {
        "id": "viG3dqE0VdVD",
        "colab_type": "code",
        "outputId": "f874b91e-1729-4e63-ea54-69d4b6348456",
        "colab": {
          "base_uri": "https://localhost:8080/",
          "height": 255
        }
      },
      "source": [
        "# basic operations on single array \n",
        "import numpy as np \n",
        "  \n",
        "a = np.array([1, 2, 5, 3]) \n",
        "  \n",
        "# add 1 to every element \n",
        "print (\"Adding 1 to every element:\", a+1) \n",
        "  \n",
        "# subtract 3 from each element \n",
        "print (\"Subtracting 3 from each element:\", a-3) \n",
        "  \n",
        "# multiply each element by 10 \n",
        "print (\"Multiplying each element by 10:\", a*10) \n",
        "  \n",
        "# square each element \n",
        "print (\"Squaring each element:\", a**2) \n",
        "  \n",
        "# modify existing array \n",
        "a *= 2\n",
        "print (\"Doubled each element of original array:\", a) \n",
        "  \n",
        "# transpose of array \n",
        "a = np.array([[1, 2, 3], [3, 4, 5], [9, 6, 0]]) \n",
        "  \n",
        "print (\"\\nOriginal array:\\n\", a) \n",
        "print (\"Transpose of array:\\n\", a.T) \n"
      ],
      "execution_count": 0,
      "outputs": [
        {
          "output_type": "stream",
          "text": [
            "Adding 1 to every element: [2 3 6 4]\n",
            "Subtracting 3 from each element: [-2 -1  2  0]\n",
            "Multiplying each element by 10: [10 20 50 30]\n",
            "Squaring each element: [ 1  4 25  9]\n",
            "Doubled each element of original array: [ 2  4 10  6]\n",
            "\n",
            "Original array:\n",
            " [[1 2 3]\n",
            " [3 4 5]\n",
            " [9 6 0]]\n",
            "Transpose of array:\n",
            " [[1 3 9]\n",
            " [2 4 6]\n",
            " [3 5 0]]\n"
          ],
          "name": "stdout"
        }
      ]
    },
    {
      "cell_type": "code",
      "metadata": {
        "id": "t5-Nbz7sO7zh",
        "colab_type": "code",
        "outputId": "6a3ac121-cf8e-4202-b972-ce8c1eb1491a",
        "colab": {
          "base_uri": "https://localhost:8080/",
          "height": 204
        }
      },
      "source": [
        "# basic operations on single array\n",
        "import numpy as np\n",
        " \n",
        "# Defining Array 1\n",
        "a = np.array([[1, 2],\n",
        "              [3, 4]])\n",
        " \n",
        "# Defining Array 2\n",
        "b = np.array([[4, 3],\n",
        "              [2, 1]])\n",
        "               \n",
        "# Adding 1 to every element\n",
        "print (\"Adding 1 to every element:\", a + 1)\n",
        " \n",
        "# Subtracting 2 from each element\n",
        "print (\"\\nSubtracting 2 from each element:\", b - 2)\n",
        " \n",
        "# sum of array elements\n",
        "# Performing Unary operations\n",
        "print (\"\\nSum of all array \"\n",
        "       \"elements: \", a.sum())\n",
        " \n",
        "# Adding two arrays\n",
        "# Performing Binary operations\n",
        "print (\"\\nArray sum:\\n\", a + b)"
      ],
      "execution_count": 0,
      "outputs": [
        {
          "output_type": "stream",
          "text": [
            "Adding 1 to every element: [[2 3]\n",
            " [4 5]]\n",
            "\n",
            "Subtracting 2 from each element: [[ 2  1]\n",
            " [ 0 -1]]\n",
            "\n",
            "Sum of all array elements:  10\n",
            "\n",
            "Array sum:\n",
            " [[5 5]\n",
            " [5 5]]\n"
          ],
          "name": "stdout"
        }
      ]
    },
    {
      "cell_type": "code",
      "metadata": {
        "id": "FcWwKhYAVtCm",
        "colab_type": "code",
        "outputId": "924d3988-7f8e-4d9b-a380-c0bc5abd2055",
        "colab": {
          "base_uri": "https://localhost:8080/",
          "height": 153
        }
      },
      "source": [
        "# unary operators in numpy \n",
        "import numpy as np \n",
        "  \n",
        "arr = np.array([[1, 5, 6], \n",
        "                [4, 7, 2], \n",
        "                [3, 1, 9]]) \n",
        "  \n",
        "# maximum element of array \n",
        "print (\"Largest element is:\", arr.max()) \n",
        "print (\"Row-wise maximum elements:\", \n",
        "                    arr.max(axis = 1)) \n",
        "  \n",
        "# minimum element of array \n",
        "print (\"Column-wise minimum elements:\", \n",
        "                        arr.min(axis = 0)) \n",
        "  \n",
        "# sum of array elements \n",
        "print (\"Sum of all array elements:\", \n",
        "                            arr.sum()) \n",
        "  \n",
        "# cumulative sum along each row \n",
        "print (\"Cumulative sum along each row:\\n\", \n",
        "                        arr.cumsum(axis = 1)) "
      ],
      "execution_count": 0,
      "outputs": [
        {
          "output_type": "stream",
          "text": [
            "Largest element is: 9\n",
            "Row-wise maximum elements: [6 7 9]\n",
            "Column-wise minimum elements: [1 1 2]\n",
            "Sum of all array elements: 38\n",
            "Cumulative sum along each row:\n",
            " [[ 1  6 12]\n",
            " [ 4 11 13]\n",
            " [ 3  4 13]]\n"
          ],
          "name": "stdout"
        }
      ]
    },
    {
      "cell_type": "code",
      "metadata": {
        "id": "-6lMoTx4VzYu",
        "colab_type": "code",
        "outputId": "ef4abb84-f4d9-440b-e031-f692b8a9700f",
        "colab": {
          "base_uri": "https://localhost:8080/",
          "height": 170
        }
      },
      "source": [
        "# binary operators in Numpy \n",
        "import numpy as np \n",
        "  \n",
        "a = np.array([[1, 2], \n",
        "            [3, 4]]) \n",
        "b = np.array([[4, 3], \n",
        "            [2, 1]]) \n",
        "  \n",
        "# add arrays \n",
        "print (\"Array sum:\\n\", a + b) \n",
        "  \n",
        "# multiply arrays (elementwise multiplication) \n",
        "print (\"Array multiplication:\\n\", a*b) \n",
        "  \n",
        "# matrix multiplication \n",
        "print (\"Matrix multiplication:\\n\", a.dot(b)) "
      ],
      "execution_count": 0,
      "outputs": [
        {
          "output_type": "stream",
          "text": [
            "Array sum:\n",
            " [[5 5]\n",
            " [5 5]]\n",
            "Array multiplication:\n",
            " [[4 6]\n",
            " [6 4]]\n",
            "Matrix multiplication:\n",
            " [[ 8  5]\n",
            " [20 13]]\n"
          ],
          "name": "stdout"
        }
      ]
    },
    {
      "cell_type": "code",
      "metadata": {
        "id": "tUGCUSeWV87k",
        "colab_type": "code",
        "outputId": "bfa35a95-a0a0-4d1f-f9ad-34724c236d30",
        "colab": {
          "base_uri": "https://localhost:8080/",
          "height": 68
        }
      },
      "source": [
        "# universal functions in numpy \n",
        "import numpy as np \n",
        "  \n",
        "# create an array of sine values \n",
        "a = np.array([0, np.pi/2, np.pi]) \n",
        "print (\"Sine values of array elements:\", np.sin(a)) \n",
        "  \n",
        "# exponential values \n",
        "a = np.array([0, 1, 2, 3]) \n",
        "print (\"Exponent of array elements:\", np.exp(a)) \n",
        "  \n",
        "# square root of array values \n",
        "print (\"Square root of array elements:\", np.sqrt(a))"
      ],
      "execution_count": 0,
      "outputs": [
        {
          "output_type": "stream",
          "text": [
            "Sine values of array elements: [0.0000000e+00 1.0000000e+00 1.2246468e-16]\n",
            "Exponent of array elements: [ 1.          2.71828183  7.3890561  20.08553692]\n",
            "Square root of array elements: [0.         1.         1.41421356 1.73205081]\n"
          ],
          "name": "stdout"
        }
      ]
    },
    {
      "cell_type": "code",
      "metadata": {
        "id": "hs4wAR1MWao6",
        "colab_type": "code",
        "outputId": "9fbd9eff-e788-4812-b440-df7b45a89d23",
        "colab": {
          "base_uri": "https://localhost:8080/",
          "height": 306
        }
      },
      "source": [
        "# Python program to demonstrate sorting in numpy \n",
        "import numpy as np \n",
        "  \n",
        "a = np.array([[1, 4, 2], \n",
        "                 [3, 4, 6], \n",
        "              [0, -1, 5]]) \n",
        "  \n",
        "# sorted array \n",
        "print (\"Array elements in sorted order:\\n\", \n",
        "                    np.sort(a, axis = None)) \n",
        "  \n",
        "# sort array row-wise \n",
        "print (\"Row-wise sorted array:\\n\", \n",
        "                np.sort(a, axis = 1)) \n",
        "  \n",
        "# specify sort algorithm \n",
        "print (\"Column wise sort by applying merge-sort:\\n\", \n",
        "            np.sort(a, axis = 0, kind = 'mergesort')) \n",
        "  \n",
        "# Example to show sorting of structured array \n",
        "# set alias names for dtypes \n",
        "dtypes = [('name', 'S10'), ('grad_year', int), ('cgpa', float)] \n",
        "  \n",
        "# Values to be put in array \n",
        "values = [('Hrithik', 2009, 8.5), ('Ajay', 2008, 8.7),  \n",
        "           ('Pankaj', 2008, 7.9), ('Aakash', 2009, 9.0)] \n",
        "             \n",
        "# Creating array \n",
        "arr = np.array(values, dtype = dtypes) \n",
        "print (\"\\nArray sorted by names:\\n\", \n",
        "            np.sort(arr, order = 'name')) \n",
        "              \n",
        "print (\"Array sorted by grauation year and then cgpa:\\n\", \n",
        "                np.sort(arr, order = ['grad_year', 'cgpa']))"
      ],
      "execution_count": 0,
      "outputs": [
        {
          "output_type": "stream",
          "text": [
            "Array elements in sorted order:\n",
            " [-1  0  1  2  3  4  4  5  6]\n",
            "Row-wise sorted array:\n",
            " [[ 1  2  4]\n",
            " [ 3  4  6]\n",
            " [-1  0  5]]\n",
            "Column wise sort by applying merge-sort:\n",
            " [[ 0 -1  2]\n",
            " [ 1  4  5]\n",
            " [ 3  4  6]]\n",
            "\n",
            "Array sorted by names:\n",
            " [(b'Aakash', 2009, 9. ) (b'Ajay', 2008, 8.7) (b'Hrithik', 2009, 8.5)\n",
            " (b'Pankaj', 2008, 7.9)]\n",
            "Array sorted by grauation year and then cgpa:\n",
            " [(b'Pankaj', 2008, 7.9) (b'Ajay', 2008, 8.7) (b'Hrithik', 2009, 8.5)\n",
            " (b'Aakash', 2009, 9. )]\n"
          ],
          "name": "stdout"
        }
      ]
    },
    {
      "cell_type": "markdown",
      "metadata": {
        "id": "1J63zhNVaxGQ",
        "colab_type": "text"
      },
      "source": [
        "#Python program to print checkerboard pattern of nxn using numpy\n",
        "\n",
        "x = np.zeros((n, n), dtype=int)\n",
        "\n",
        "x[1::2, ::2] = 1 : Slice from 1st index row till 1+2+2… and fill all columns with 1 starting from 0th to 0+2+2… and so on.\n",
        "\n",
        "x[::2, 1::2] = 1 : Slice from 0th row till 0+2+2… and fill all columns with 1 starting from 1 to 1+2+2+…..\n"
      ]
    },
    {
      "cell_type": "code",
      "metadata": {
        "id": "X-Aiz9jeawbh",
        "colab_type": "code",
        "outputId": "3d2dff0d-11f4-4f92-9c8e-35e0d2ae7108",
        "colab": {
          "base_uri": "https://localhost:8080/",
          "height": 170
        }
      },
      "source": [
        "# checkerboard pattern using numpy \n",
        "  \n",
        "import numpy as np \n",
        "  \n",
        "# function to print Checkerboard pattern \n",
        "def printcheckboard(n): \n",
        "      \n",
        "    print(\"Checkerboard pattern:\") \n",
        "    # create a n * n matrix \n",
        "    x = np.zeros((n, n), dtype = int) \n",
        "    # fill with 1 the alternate rows and columns \n",
        "    x[1::2, ::2] = 1\n",
        "    x[::2, 1::2] = 1\n",
        "      \n",
        "    # print the pattern \n",
        "    for i in range(n): \n",
        "        for j in range(n): \n",
        "            print(x[i][j], end =\" \")  \n",
        "        print()  \n",
        "  \n",
        "# driver code \n",
        "n = 8\n",
        "printcheckboard(n)"
      ],
      "execution_count": 0,
      "outputs": [
        {
          "output_type": "stream",
          "text": [
            "Checkerboard pattern:\n",
            "0 1 0 1 0 1 0 1 \n",
            "1 0 1 0 1 0 1 0 \n",
            "0 1 0 1 0 1 0 1 \n",
            "1 0 1 0 1 0 1 0 \n",
            "0 1 0 1 0 1 0 1 \n",
            "1 0 1 0 1 0 1 0 \n",
            "0 1 0 1 0 1 0 1 \n",
            "1 0 1 0 1 0 1 0 \n"
          ],
          "name": "stdout"
        }
      ]
    },
    {
      "cell_type": "code",
      "metadata": {
        "id": "FWHh_K8Rb7CW",
        "colab_type": "code",
        "outputId": "be163264-f273-40fe-e0bd-4d6fb09616b6",
        "colab": {
          "base_uri": "https://localhost:8080/",
          "height": 102
        }
      },
      "source": [
        "# function to print the pattern \n",
        "def pattern(n): \n",
        "  \n",
        "    # traverse through the elements \n",
        "    # in n assuming it as a string \n",
        "    for i in n: \n",
        "  \n",
        "        # print | for every line \n",
        "        print(\"|\", end = \"\") \n",
        "  \n",
        "        # print i number of * s in  \n",
        "        # each line \n",
        "        print(\"*\" * int(i)) \n",
        "  \n",
        "# get the input as string         \n",
        "n = \"41325\"\n",
        "pattern(n) "
      ],
      "execution_count": 0,
      "outputs": [
        {
          "output_type": "stream",
          "text": [
            "|****\n",
            "|*\n",
            "|***\n",
            "|**\n",
            "|*****\n"
          ],
          "name": "stdout"
        }
      ]
    },
    {
      "cell_type": "code",
      "metadata": {
        "id": "deJ6HgxIb7iD",
        "colab_type": "code",
        "outputId": "1582e818-3ac3-4f57-8c2d-a0d55161d9a3",
        "colab": {
          "base_uri": "https://localhost:8080/",
          "height": 34
        }
      },
      "source": [
        "# input two matrices of size n x m \n",
        "matrix1 = [[12,7,3], \n",
        "        [4 ,5,6], \n",
        "        [7 ,8,9]] \n",
        "matrix2 = [[5,8,1], \n",
        "        [6,7,3], \n",
        "        [4,5,9]] \n",
        "  \n",
        "res = [[0 for x in range(3)] for y in range(3)]  \n",
        "  \n",
        "# explicit for loops \n",
        "for i in range(len(matrix1)): \n",
        "    for j in range(len(matrix2[0])): \n",
        "        for k in range(len(matrix2)): \n",
        "  \n",
        "            # resulted matrix \n",
        "            res[i][j] += matrix1[i][k] * matrix2[k][j] \n",
        "  \n",
        "print (res) \n"
      ],
      "execution_count": 0,
      "outputs": [
        {
          "output_type": "stream",
          "text": [
            "[[114, 160, 60], [74, 97, 73], [119, 157, 112]]\n"
          ],
          "name": "stdout"
        }
      ]
    },
    {
      "cell_type": "code",
      "metadata": {
        "id": "P8jDdasYdSs2",
        "colab_type": "code",
        "colab": {}
      },
      "source": [
        ""
      ],
      "execution_count": 0,
      "outputs": []
    }
  ]
}
