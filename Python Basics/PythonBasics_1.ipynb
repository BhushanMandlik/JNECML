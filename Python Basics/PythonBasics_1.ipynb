{
  "nbformat": 4,
  "nbformat_minor": 0,
  "metadata": {
    "colab": {
      "name": "PythonBasics.ipynb",
      "version": "0.3.2",
      "provenance": [],
      "collapsed_sections": [
        "s-m2QcPE7Tjv"
      ]
    },
    "kernelspec": {
      "name": "python3",
      "display_name": "Python 3"
    },
    "accelerator": "GPU"
  },
  "cells": [
    {
      "cell_type": "markdown",
      "metadata": {
        "id": "2igR8_Ei5xka",
        "colab_type": "text"
      },
      "source": [
        "<p><img alt=\"Colaboratory logo\" height=\"45px\" src=\"https://www.jnec.org/images/mgmlogo.jpg\" align=\"left\" hspace=\"10px\" vspace=\"0px\"></p>\n",
        "\n",
        "<h1>Welcome to Machine Learning Course</h1>\n",
        "\n",
        "\n",
        "Google COLAB: Colaboratory is a free Jupyter notebook environment that requires no setup and runs entirely in the cloud. With Colaboratory you can write and execute code, save and share your analyses, and access powerful computing resources, all for free from your browser.\n",
        "\n",
        "<h4 align=\"center\">Hands on Session : Basics of Python</h4>\n",
        "<h6 align=\"right\">Author: Prof. Charudatt Mane</h6>\n",
        "\n",
        "---\n",
        "\n"
      ]
    },
    {
      "cell_type": "markdown",
      "metadata": {
        "id": "s-m2QcPE7Tjv",
        "colab_type": "text"
      },
      "source": [
        "##Data Types in Python\n",
        "\n",
        "1.   Numbers : Int, Long, Float, Complex (Long in python 2)\n",
        "2.   String\n",
        "3.   List\n",
        "4.   Tuple\n",
        "5.   Dictionary\n",
        "\n",
        "High-level dynamic data types and supports dynamic type checking\n",
        "\n",
        "\n",
        "---\n",
        "\n",
        "\n",
        "\n",
        "\n"
      ]
    },
    {
      "cell_type": "code",
      "metadata": {
        "id": "X1-Izg6V64Xv",
        "colab_type": "code",
        "outputId": "e4b2e6e9-e093-421b-8de1-d73724d2d4dd",
        "colab": {
          "base_uri": "https://localhost:8080/",
          "height": 68
        }
      },
      "source": [
        "age=21 #integer assignment\n",
        "marks=66.69 #float assignment\n",
        "name=\"JNEC\" #string assignment\n",
        "\n",
        "#Lets print variables\n",
        "print(age)\n",
        "print(marks)\n",
        "print(name)"
      ],
      "execution_count": 0,
      "outputs": [
        {
          "output_type": "stream",
          "text": [
            "21\n",
            "66.69\n",
            "JNEC\n"
          ],
          "name": "stdout"
        }
      ]
    },
    {
      "cell_type": "code",
      "metadata": {
        "id": "SrXYYpXN6jlC",
        "colab_type": "code",
        "outputId": "553b52a2-1264-4ac7-eb5a-33db81f2de44",
        "colab": {
          "base_uri": "https://localhost:8080/",
          "height": 51
        }
      },
      "source": [
        "#multiple assignment\n",
        "a=b=c=10 \n",
        "print(\"a,b,c variables values:\",a,b,c)\n",
        "\n",
        "l,m,n=4,5.6,\"Virat\"\n",
        "print(\"l,m,n variables values assigned respectively:\",l,m,n)"
      ],
      "execution_count": 0,
      "outputs": [
        {
          "output_type": "stream",
          "text": [
            "a,b,c variables values: 10 10 10\n",
            "l,m,n variables values assigned respectively: 4 5.6 Virat\n"
          ],
          "name": "stdout"
        }
      ]
    },
    {
      "cell_type": "code",
      "metadata": {
        "id": "U4xdKzKT9Rjs",
        "colab_type": "code",
        "outputId": "a3805c08-f48e-45ff-ae3d-0ebbf0f9af5c",
        "colab": {
          "base_uri": "https://localhost:8080/",
          "height": 68
        }
      },
      "source": [
        "d=2+4j  #complex number\n",
        "print(d)\n",
        "print(d.real)\n",
        "print(d.imag)"
      ],
      "execution_count": 0,
      "outputs": [
        {
          "output_type": "stream",
          "text": [
            "(2+4j)\n",
            "2.0\n",
            "4.0\n"
          ],
          "name": "stdout"
        }
      ]
    },
    {
      "cell_type": "code",
      "metadata": {
        "id": "MGDE0Wmz-61f",
        "colab_type": "code",
        "outputId": "21873bdf-b6e7-4224-e8de-24bd5e83340c",
        "colab": {
          "base_uri": "https://localhost:8080/",
          "height": 257
        }
      },
      "source": [
        "str=\"Machine Learning Course by Prof. Charudatt Mane\"  #string variable, sequence of characters, use of single or double quote  \n",
        "print(str)    # Prints complete string\n",
        "print(str[0]) # Prints first character of the string as index starts from 0 to length of string\n",
        "print(str[2:6]) # slice operator [start index:end index] startig index is inclusive and end index is exclusive\n",
        "print(str[5:])  # print from 5 character to the end of string\n",
        "print(str[:])  # print complete string\n",
        "print(str[::2]) # print alternate character of the string slice operator syntax [SI:EI:Step] by default it is zero \n",
        "print(str[::-1]) # prints reverse of string\n",
        "print(str[-1:-5]) # prints nothing this won't work\n",
        "print(str[-1::-2]) # prints reverse of string with alternate characters\n",
        "print(str[-1:-8:-2]) # prints alternative characters from reverse string in the given range \n",
        "\n",
        "s1='JNEC'; s2='College'  # on same line multiple varible are declared but seperated by semi colon \n",
        "print(s1)\n",
        "print(s2)\n",
        "print(s1+s2) # concatenate both strings  + concatenation operator\n",
        "print(s1*3)  # prints JNEC 3 times  * repitition operator\n",
        "\n"
      ],
      "execution_count": 0,
      "outputs": [
        {
          "output_type": "stream",
          "text": [
            "Machine Learning Course by Prof. Charudatt Mane\n",
            "M\n",
            "chin\n",
            "ne Learning Course by Prof. Charudatt Mane\n",
            "Machine Learning Course by Prof. Charudatt Mane\n",
            "McieLann oreb rf hrdt ae\n",
            "enaM ttadurahC .forP yb esruoC gninraeL enihcaM\n",
            "\n",
            "ea tdrh fr bero nnaLeicM\n",
            "ea t\n",
            "JNEC\n",
            "College\n",
            "JNECCollege\n",
            "JNECJNECJNEC\n"
          ],
          "name": "stdout"
        }
      ]
    },
    {
      "cell_type": "code",
      "metadata": {
        "id": "MafsMMZrGxXq",
        "colab_type": "code",
        "outputId": "2b6ac678-1e49-4e2a-c4f5-ef14597317b5",
        "colab": {
          "base_uri": "https://localhost:8080/",
          "height": 119
        }
      },
      "source": [
        "#Python List just like array represented by square brackets []\\ and items seperated by commas (Mutable)\n",
        "list=[1,2,2.5,'JNEC',\"CSE\"] # list can contain different data types items \n",
        "print(list) # prints complete list\n",
        "print(list[0]) # prints first element of list \n",
        "print(list[1:3]) # prints 2 and 3 element as list starts at 0 index\n",
        "print(list[2:]) # prints elements starting from  3rd element till end \n",
        "\n",
        "l1=[1,2,3] \n",
        "print(l1*2)  # print list l1 2 times\n",
        "print(list+l1) # concatenate both lists"
      ],
      "execution_count": 0,
      "outputs": [
        {
          "output_type": "stream",
          "text": [
            "[1, 2, 2.5, 'JNEC', 'CSE']\n",
            "1\n",
            "[2, 2.5]\n",
            "[2.5, 'JNEC', 'CSE']\n",
            "[1, 2, 3, 1, 2, 3]\n",
            "[1, 2, 2.5, 'JNEC', 'CSE', 1, 2, 3]\n"
          ],
          "name": "stdout"
        }
      ]
    },
    {
      "cell_type": "code",
      "metadata": {
        "id": "a5Tz7gb8K0Jv",
        "colab_type": "code",
        "outputId": "0265fe3f-6fca-481a-ec6a-b4643dc0505f",
        "colab": {
          "base_uri": "https://localhost:8080/",
          "height": 119
        }
      },
      "source": [
        "#Python Tuple similar to list represented by round brackets ()\\ items seperated by commas (Immutable)\n",
        "#Tuple can not be updated (read only lists)\\\n",
        "tuple=(1,2,2.5,'JNEC','abc')\n",
        "print(tuple) # Prints complete tuple\n",
        "print(tuple[0]) # print first element of tuple\n",
        "print(tuple[1:3]) # prints 2 and 3 element from tuple\n",
        "print(tuple[2:]) # prints from 3rd element\n",
        "\n",
        "t1=(6,7,8)\n",
        "print(tuple+t1) # Prints concatenated tuples\n",
        "print(tuple*2) # Prints tuple two times"
      ],
      "execution_count": 0,
      "outputs": [
        {
          "output_type": "stream",
          "text": [
            "(1, 2, 2.5, 'JNEC', 'abc')\n",
            "1\n",
            "(2, 2.5)\n",
            "(2.5, 'JNEC', 'abc')\n",
            "(1, 2, 2.5, 'JNEC', 'abc', 6, 7, 8)\n",
            "(1, 2, 2.5, 'JNEC', 'abc', 1, 2, 2.5, 'JNEC', 'abc')\n"
          ],
          "name": "stdout"
        }
      ]
    },
    {
      "cell_type": "code",
      "metadata": {
        "id": "gXbxbSq4M0lS",
        "colab_type": "code",
        "outputId": "1ba3a41a-cfa6-4792-d4e9-a0d1c2430cfa",
        "colab": {
          "base_uri": "https://localhost:8080/",
          "height": 34
        }
      },
      "source": [
        "tuple = ( 'abc', 456 , 2.123, 'john', 75.2  )\n",
        "list = [ 'abc', 456 , 2.235, 'john', 75.2  ]\n",
        "\n",
        "list[2] = 1000     # Valid syntax with list (list can be updated) \n",
        "print(list)\n",
        "#tuple[2] = 1000    # Invalid syntax with tuple (tuple can't be updated)"
      ],
      "execution_count": 0,
      "outputs": [
        {
          "output_type": "stream",
          "text": [
            "['abc', 456, 1000, 'john', 75.2]\n"
          ],
          "name": "stdout"
        }
      ]
    },
    {
      "cell_type": "code",
      "metadata": {
        "id": "Hup7PfCaNt9r",
        "colab_type": "code",
        "outputId": "ffca4e1e-2edd-43e0-cf5e-ee32c8ba8ec4",
        "colab": {
          "base_uri": "https://localhost:8080/",
          "height": 119
        }
      },
      "source": [
        "#Python Dictionary kind of hash table type & works with key:value pair\n",
        "#Dictionaries are enclosed by curly braces ({ }) and values can be assigned and accessed using square braces ([])\\\n",
        "#key must be unique & possibly of number and string type , value can be any kind of object in python\n",
        "dict={'N6 Cidco':'JNEC',2:'MIT',3:'PES'}\n",
        "print(dict) # prints complete dict\n",
        "print(dict[2]) # in sqaure bracket pass key  then it return value of that key\n",
        "print(dict['N6 Cidco']) # passing key to get value associated with it\n",
        "print(dict.keys()) # prints keys in the dictionary\n",
        "print(dict.values()) # prints vlaues in the dictionary\n",
        "\n",
        "d1={}\n",
        "d1['Singhad']=\"Pune\"\n",
        "d1['Devgiri']=\"Aurangabad\"\n",
        "d1[1]=1000 \n",
        "print(d1) # prints complete dictionary"
      ],
      "execution_count": 0,
      "outputs": [
        {
          "output_type": "stream",
          "text": [
            "{'N6 Cidco': 'JNEC', 2: 'MIT', 3: 'PES'}\n",
            "MIT\n",
            "JNEC\n",
            "dict_keys(['N6 Cidco', 2, 3])\n",
            "dict_values(['JNEC', 'MIT', 'PES'])\n",
            "{'Singhad': 'Pune', 'Devgiri': 'Aurangabad', 1: 1000}\n"
          ],
          "name": "stdout"
        }
      ]
    },
    {
      "cell_type": "markdown",
      "metadata": {
        "id": "Gsd_32QG-kgn",
        "colab_type": "text"
      },
      "source": [
        "### Checking data type of variable"
      ]
    },
    {
      "cell_type": "code",
      "metadata": {
        "id": "4BADr7dTGwPa",
        "colab_type": "code",
        "outputId": "1aa4de4b-5079-4b33-93a7-d670410f3ecb",
        "colab": {
          "base_uri": "https://localhost:8080/",
          "height": 119
        }
      },
      "source": [
        "print(type(age))  # prints data type of variable \n",
        "print(type(marks))\n",
        "print(type(name))\n",
        "print(type(l1))\n",
        "print(type(t1))\n",
        "print(type(d1))"
      ],
      "execution_count": 0,
      "outputs": [
        {
          "output_type": "stream",
          "text": [
            "<class 'int'>\n",
            "<class 'float'>\n",
            "<class 'str'>\n",
            "<class 'list'>\n",
            "<class 'tuple'>\n",
            "<class 'dict'>\n"
          ],
          "name": "stdout"
        }
      ]
    },
    {
      "cell_type": "markdown",
      "metadata": {
        "id": "C32XjcvuFkDJ",
        "colab_type": "text"
      },
      "source": [
        "### Printing address of the variable"
      ]
    },
    {
      "cell_type": "code",
      "metadata": {
        "id": "ZPUzqxt5-MNJ",
        "colab_type": "code",
        "outputId": "141af976-2bc6-463d-fda6-9aa9d8793d97",
        "colab": {
          "base_uri": "https://localhost:8080/",
          "height": 85
        }
      },
      "source": [
        "a=100\n",
        "print(id(a))  #id() prints the address of the variable\n",
        "b=200\n",
        "print(id(b))\n",
        "c=400\n",
        "print(id(c))\n",
        "d=100\n",
        "print(id(d))"
      ],
      "execution_count": 0,
      "outputs": [
        {
          "output_type": "stream",
          "text": [
            "10971968\n",
            "10975168\n",
            "140510864870192\n",
            "10971968\n"
          ],
          "name": "stdout"
        }
      ]
    },
    {
      "cell_type": "code",
      "metadata": {
        "id": "FgO5ntYFVYpo",
        "colab_type": "code",
        "outputId": "93f3cd0b-bca8-4d27-85e8-fce661d2c6ed",
        "colab": {
          "base_uri": "https://localhost:8080/",
          "height": 68
        }
      },
      "source": [
        "c=50\n",
        "d=10\n",
        "b=50-40\n",
        "print(id(c))\n",
        "print(id(d))\n",
        "print(id(b))"
      ],
      "execution_count": 0,
      "outputs": [
        {
          "output_type": "stream",
          "text": [
            "10970368\n",
            "10969088\n",
            "10969088\n"
          ],
          "name": "stdout"
        }
      ]
    }
  ]
}
