{
  "nbformat": 4,
  "nbformat_minor": 0,
  "metadata": {
    "colab": {
      "name": "PythonBasics.ipynb",
      "version": "0.3.2",
      "provenance": [],
      "collapsed_sections": [
        "s-m2QcPE7Tjv",
        "JqyLlbCV3Oq1",
        "Sj7SXxqE4Rfx",
        "TyQT5RZo3B8l"
      ]
    },
    "kernelspec": {
      "name": "python3",
      "display_name": "Python 3"
    },
    "accelerator": "GPU"
  },
  "cells": [
    {
      "cell_type": "markdown",
      "metadata": {
        "id": "2igR8_Ei5xka",
        "colab_type": "text"
      },
      "source": [
        "<p><img alt=\"Colaboratory logo\" height=\"45px\" src=\"https://www.jnec.org/images/mgmlogo.jpg\" align=\"left\" hspace=\"10px\" vspace=\"0px\"></p>\n",
        "\n",
        "<h1>Welcome to Machine Learning Course</h1>\n",
        "\n",
        "\n",
        "Google COLAB: Colaboratory is a free Jupyter notebook environment that requires no setup and runs entirely in the cloud. With Colaboratory you can write and execute code, save and share your analyses, and access powerful computing resources, all for free from your browser.\n",
        "\n",
        "<h4 align=\"center\">Hands on Session : Basics of Python</h4>\n",
        "<h6 align=\"right\">Author: Prof. Charudatt Mane</h6>\n",
        "\n",
        "---\n",
        "\n"
      ]
    },
    {
      "cell_type": "markdown",
      "metadata": {
        "id": "s-m2QcPE7Tjv",
        "colab_type": "text"
      },
      "source": [
        "##Data Types in Python\n",
        "\n",
        "1.   Numbers : Int, Long, Float, Complex (Long in python 2)\n",
        "2.   String\n",
        "3.   List\n",
        "4.   Tuple\n",
        "5.   Dictionary\n",
        "\n",
        "High-level dynamic data types and supports dynamic type checking\n",
        "\n",
        "\n",
        "---\n",
        "\n",
        "\n",
        "\n",
        "\n"
      ]
    },
    {
      "cell_type": "code",
      "metadata": {
        "id": "X1-Izg6V64Xv",
        "colab_type": "code",
        "outputId": "e4b2e6e9-e093-421b-8de1-d73724d2d4dd",
        "colab": {
          "base_uri": "https://localhost:8080/",
          "height": 68
        }
      },
      "source": [
        "age=21 #integer assignment\n",
        "marks=66.69 #float assignment\n",
        "name=\"JNEC\" #string assignment\n",
        "\n",
        "#Lets print variables\n",
        "print(age)\n",
        "print(marks)\n",
        "print(name)"
      ],
      "execution_count": 0,
      "outputs": [
        {
          "output_type": "stream",
          "text": [
            "21\n",
            "66.69\n",
            "JNEC\n"
          ],
          "name": "stdout"
        }
      ]
    },
    {
      "cell_type": "code",
      "metadata": {
        "id": "SrXYYpXN6jlC",
        "colab_type": "code",
        "outputId": "553b52a2-1264-4ac7-eb5a-33db81f2de44",
        "colab": {
          "base_uri": "https://localhost:8080/",
          "height": 51
        }
      },
      "source": [
        "#multiple assignment\n",
        "a=b=c=10 \n",
        "print(\"a,b,c variables values:\",a,b,c)\n",
        "\n",
        "l,m,n=4,5.6,\"Virat\"\n",
        "print(\"l,m,n variables values assigned respectively:\",l,m,n)"
      ],
      "execution_count": 0,
      "outputs": [
        {
          "output_type": "stream",
          "text": [
            "a,b,c variables values: 10 10 10\n",
            "l,m,n variables values assigned respectively: 4 5.6 Virat\n"
          ],
          "name": "stdout"
        }
      ]
    },
    {
      "cell_type": "code",
      "metadata": {
        "id": "U4xdKzKT9Rjs",
        "colab_type": "code",
        "outputId": "a3805c08-f48e-45ff-ae3d-0ebbf0f9af5c",
        "colab": {
          "base_uri": "https://localhost:8080/",
          "height": 68
        }
      },
      "source": [
        "d=2+4j  #complex number\n",
        "print(d)\n",
        "print(d.real)\n",
        "print(d.imag)"
      ],
      "execution_count": 0,
      "outputs": [
        {
          "output_type": "stream",
          "text": [
            "(2+4j)\n",
            "2.0\n",
            "4.0\n"
          ],
          "name": "stdout"
        }
      ]
    },
    {
      "cell_type": "code",
      "metadata": {
        "id": "MGDE0Wmz-61f",
        "colab_type": "code",
        "outputId": "21873bdf-b6e7-4224-e8de-24bd5e83340c",
        "colab": {
          "base_uri": "https://localhost:8080/",
          "height": 257
        }
      },
      "source": [
        "str=\"Machine Learning Course by Prof. Charudatt Mane\"  #string variable, sequence of characters, use of single or double quote  \n",
        "print(str)    # Prints complete string\n",
        "print(str[0]) # Prints first character of the string as index starts from 0 to length of string\n",
        "print(str[2:6]) # slice operator [start index:end index] startig index is inclusive and end index is exclusive\n",
        "print(str[5:])  # print from 5 character to the end of string\n",
        "print(str[:])  # print complete string\n",
        "print(str[::2]) # print alternate character of the string slice operator syntax [SI:EI:Step] by default it is zero \n",
        "print(str[::-1]) # prints reverse of string\n",
        "print(str[-1:-5]) # prints nothing this won't work\n",
        "print(str[-1::-2]) # prints reverse of string with alternate characters\n",
        "print(str[-1:-8:-2]) # prints alternative characters from reverse string in the given range \n",
        "\n",
        "s1='JNEC'; s2='College'  # on same line multiple varible are declared but seperated by semi colon \n",
        "print(s1)\n",
        "print(s2)\n",
        "print(s1+s2) # concatenate both strings  + concatenation operator\n",
        "print(s1*3)  # prints JNEC 3 times  * repitition operator\n",
        "\n"
      ],
      "execution_count": 0,
      "outputs": [
        {
          "output_type": "stream",
          "text": [
            "Machine Learning Course by Prof. Charudatt Mane\n",
            "M\n",
            "chin\n",
            "ne Learning Course by Prof. Charudatt Mane\n",
            "Machine Learning Course by Prof. Charudatt Mane\n",
            "McieLann oreb rf hrdt ae\n",
            "enaM ttadurahC .forP yb esruoC gninraeL enihcaM\n",
            "\n",
            "ea tdrh fr bero nnaLeicM\n",
            "ea t\n",
            "JNEC\n",
            "College\n",
            "JNECCollege\n",
            "JNECJNECJNEC\n"
          ],
          "name": "stdout"
        }
      ]
    },
    {
      "cell_type": "code",
      "metadata": {
        "id": "MafsMMZrGxXq",
        "colab_type": "code",
        "outputId": "2b6ac678-1e49-4e2a-c4f5-ef14597317b5",
        "colab": {
          "base_uri": "https://localhost:8080/",
          "height": 119
        }
      },
      "source": [
        "#Python List just like array represented by square brackets []\\ and items seperated by commas (Mutable)\n",
        "list=[1,2,2.5,'JNEC',\"CSE\"] # list can contain different data types items \n",
        "print(list) # prints complete list\n",
        "print(list[0]) # prints first element of list \n",
        "print(list[1:3]) # prints 2 and 3 element as list starts at 0 index\n",
        "print(list[2:]) # prints elements starting from  3rd element till end \n",
        "\n",
        "l1=[1,2,3] \n",
        "print(l1*2)  # print list l1 2 times\n",
        "print(list+l1) # concatenate both lists"
      ],
      "execution_count": 0,
      "outputs": [
        {
          "output_type": "stream",
          "text": [
            "[1, 2, 2.5, 'JNEC', 'CSE']\n",
            "1\n",
            "[2, 2.5]\n",
            "[2.5, 'JNEC', 'CSE']\n",
            "[1, 2, 3, 1, 2, 3]\n",
            "[1, 2, 2.5, 'JNEC', 'CSE', 1, 2, 3]\n"
          ],
          "name": "stdout"
        }
      ]
    },
    {
      "cell_type": "code",
      "metadata": {
        "id": "a5Tz7gb8K0Jv",
        "colab_type": "code",
        "outputId": "0265fe3f-6fca-481a-ec6a-b4643dc0505f",
        "colab": {
          "base_uri": "https://localhost:8080/",
          "height": 119
        }
      },
      "source": [
        "#Python Tuple similar to list represented by round brackets ()\\ items seperated by commas (Immutable)\n",
        "#Tuple can not be updated (read only lists)\\\n",
        "tuple=(1,2,2.5,'JNEC','abc')\n",
        "print(tuple) # Prints complete tuple\n",
        "print(tuple[0]) # print first element of tuple\n",
        "print(tuple[1:3]) # prints 2 and 3 element from tuple\n",
        "print(tuple[2:]) # prints from 3rd element\n",
        "\n",
        "t1=(6,7,8)\n",
        "print(tuple+t1) # Prints concatenated tuples\n",
        "print(tuple*2) # Prints tuple two times"
      ],
      "execution_count": 0,
      "outputs": [
        {
          "output_type": "stream",
          "text": [
            "(1, 2, 2.5, 'JNEC', 'abc')\n",
            "1\n",
            "(2, 2.5)\n",
            "(2.5, 'JNEC', 'abc')\n",
            "(1, 2, 2.5, 'JNEC', 'abc', 6, 7, 8)\n",
            "(1, 2, 2.5, 'JNEC', 'abc', 1, 2, 2.5, 'JNEC', 'abc')\n"
          ],
          "name": "stdout"
        }
      ]
    },
    {
      "cell_type": "code",
      "metadata": {
        "id": "gXbxbSq4M0lS",
        "colab_type": "code",
        "outputId": "1ba3a41a-cfa6-4792-d4e9-a0d1c2430cfa",
        "colab": {
          "base_uri": "https://localhost:8080/",
          "height": 34
        }
      },
      "source": [
        "tuple = ( 'abc', 456 , 2.123, 'john', 75.2  )\n",
        "list = [ 'abc', 456 , 2.235, 'john', 75.2  ]\n",
        "\n",
        "list[2] = 1000     # Valid syntax with list (list can be updated) \n",
        "print(list)\n",
        "#tuple[2] = 1000    # Invalid syntax with tuple (tuple can't be updated)"
      ],
      "execution_count": 0,
      "outputs": [
        {
          "output_type": "stream",
          "text": [
            "['abc', 456, 1000, 'john', 75.2]\n"
          ],
          "name": "stdout"
        }
      ]
    },
    {
      "cell_type": "code",
      "metadata": {
        "id": "Hup7PfCaNt9r",
        "colab_type": "code",
        "outputId": "ffca4e1e-2edd-43e0-cf5e-ee32c8ba8ec4",
        "colab": {
          "base_uri": "https://localhost:8080/",
          "height": 119
        }
      },
      "source": [
        "#Python Dictionary kind of hash table type & works with key:value pair\n",
        "#Dictionaries are enclosed by curly braces ({ }) and values can be assigned and accessed using square braces ([])\\\n",
        "#key must be unique & possibly of number and string type , value can be any kind of object in python\n",
        "dict={'N6 Cidco':'JNEC',2:'MIT',3:'PES'}\n",
        "print(dict) # prints complete dict\n",
        "print(dict[2]) # in sqaure bracket pass key  then it return value of that key\n",
        "print(dict['N6 Cidco']) # passing key to get value associated with it\n",
        "print(dict.keys()) # prints keys in the dictionary\n",
        "print(dict.values()) # prints vlaues in the dictionary\n",
        "\n",
        "d1={}\n",
        "d1['Singhad']=\"Pune\"\n",
        "d1['Devgiri']=\"Aurangabad\"\n",
        "d1[1]=1000 \n",
        "print(d1) # prints complete dictionary"
      ],
      "execution_count": 0,
      "outputs": [
        {
          "output_type": "stream",
          "text": [
            "{'N6 Cidco': 'JNEC', 2: 'MIT', 3: 'PES'}\n",
            "MIT\n",
            "JNEC\n",
            "dict_keys(['N6 Cidco', 2, 3])\n",
            "dict_values(['JNEC', 'MIT', 'PES'])\n",
            "{'Singhad': 'Pune', 'Devgiri': 'Aurangabad', 1: 1000}\n"
          ],
          "name": "stdout"
        }
      ]
    },
    {
      "cell_type": "markdown",
      "metadata": {
        "id": "Gsd_32QG-kgn",
        "colab_type": "text"
      },
      "source": [
        "### Checking data type of variable"
      ]
    },
    {
      "cell_type": "code",
      "metadata": {
        "id": "4BADr7dTGwPa",
        "colab_type": "code",
        "outputId": "1aa4de4b-5079-4b33-93a7-d670410f3ecb",
        "colab": {
          "base_uri": "https://localhost:8080/",
          "height": 119
        }
      },
      "source": [
        "print(type(age))  # prints data type of variable \n",
        "print(type(marks))\n",
        "print(type(name))\n",
        "print(type(l1))\n",
        "print(type(t1))\n",
        "print(type(d1))"
      ],
      "execution_count": 0,
      "outputs": [
        {
          "output_type": "stream",
          "text": [
            "<class 'int'>\n",
            "<class 'float'>\n",
            "<class 'str'>\n",
            "<class 'list'>\n",
            "<class 'tuple'>\n",
            "<class 'dict'>\n"
          ],
          "name": "stdout"
        }
      ]
    },
    {
      "cell_type": "markdown",
      "metadata": {
        "id": "C32XjcvuFkDJ",
        "colab_type": "text"
      },
      "source": [
        "### Printing address of the variable"
      ]
    },
    {
      "cell_type": "code",
      "metadata": {
        "id": "ZPUzqxt5-MNJ",
        "colab_type": "code",
        "outputId": "141af976-2bc6-463d-fda6-9aa9d8793d97",
        "colab": {
          "base_uri": "https://localhost:8080/",
          "height": 85
        }
      },
      "source": [
        "a=100\n",
        "print(id(a))  #id() prints the address of the variable\n",
        "b=200\n",
        "print(id(b))\n",
        "c=400\n",
        "print(id(c))\n",
        "d=100\n",
        "print(id(d))"
      ],
      "execution_count": 0,
      "outputs": [
        {
          "output_type": "stream",
          "text": [
            "10971968\n",
            "10975168\n",
            "140510864870192\n",
            "10971968\n"
          ],
          "name": "stdout"
        }
      ]
    },
    {
      "cell_type": "code",
      "metadata": {
        "id": "FgO5ntYFVYpo",
        "colab_type": "code",
        "outputId": "93f3cd0b-bca8-4d27-85e8-fce661d2c6ed",
        "colab": {
          "base_uri": "https://localhost:8080/",
          "height": 68
        }
      },
      "source": [
        "c=50\n",
        "d=10\n",
        "b=50-40\n",
        "print(id(c))\n",
        "print(id(d))\n",
        "print(id(b))"
      ],
      "execution_count": 0,
      "outputs": [
        {
          "output_type": "stream",
          "text": [
            "10970368\n",
            "10969088\n",
            "10969088\n"
          ],
          "name": "stdout"
        }
      ]
    },
    {
      "cell_type": "markdown",
      "metadata": {
        "id": "SnVBIuSw2E-x",
        "colab_type": "text"
      },
      "source": [
        "##Variables and Data Types "
      ]
    },
    {
      "cell_type": "code",
      "metadata": {
        "id": "mh7t1mvMzYWl",
        "colab_type": "code",
        "outputId": "d95b817c-b784-452a-c8d1-21bd35781f4f",
        "colab": {
          "base_uri": "https://localhost:8080/",
          "height": 34
        }
      },
      "source": [
        "a=5\n",
        "b=1.5\n",
        "c='JNEC'\n",
        "d=2+3j\n",
        "\n",
        "print(\"Integer:-\",a,\" Float:-\",b,\" String:-\",c,\" Complex Number:-\",d)"
      ],
      "execution_count": 0,
      "outputs": [
        {
          "output_type": "stream",
          "text": [
            "Integer:- 5  Float:- 1.5  String:- JNEC  Complex Number:- (2+3j)\n"
          ],
          "name": "stdout"
        }
      ]
    },
    {
      "cell_type": "code",
      "metadata": {
        "id": "D9vpP0Rq2XkB",
        "colab_type": "code",
        "outputId": "3fb43716-ca42-4fd8-f214-03920d0492fc",
        "colab": {
          "base_uri": "https://localhost:8080/",
          "height": 85
        }
      },
      "source": [
        "print(type(a))\n",
        "print(type(b))\n",
        "print(type(c))\n",
        "print(type(d))"
      ],
      "execution_count": 0,
      "outputs": [
        {
          "output_type": "stream",
          "text": [
            "<class 'int'>\n",
            "<class 'float'>\n",
            "<class 'str'>\n",
            "<class 'complex'>\n"
          ],
          "name": "stdout"
        }
      ]
    },
    {
      "cell_type": "markdown",
      "metadata": {
        "id": "CV-xzJ0oltjL",
        "colab_type": "text"
      },
      "source": [
        "###Types and Type Convesion"
      ]
    },
    {
      "cell_type": "code",
      "metadata": {
        "id": "Syv_msrll8dq",
        "colab_type": "code",
        "outputId": "d5215220-d672-4195-9c7d-330b665b72fc",
        "colab": {
          "base_uri": "https://localhost:8080/",
          "height": 51
        }
      },
      "source": [
        "# initializing string \n",
        "s = \"10010\"\n",
        "  \n",
        "# printing string converting to int base 2 \n",
        "c = int(s,2) \n",
        "print (\"After converting to integer base 2 : \", end=\"\") \n",
        "print (c) \n",
        "  \n",
        "# printing string converting to float \n",
        "e = float(s) \n",
        "print (\"After converting to float : \", end=\"\") \n",
        "print (e) \n"
      ],
      "execution_count": 0,
      "outputs": [
        {
          "output_type": "stream",
          "text": [
            "After converting to integer base 2 : 18\n",
            "After converting to float : 10010.0\n"
          ],
          "name": "stdout"
        }
      ]
    },
    {
      "cell_type": "code",
      "metadata": {
        "id": "dyurdBrFosW9",
        "colab_type": "code",
        "outputId": "86353125-2b01-4257-a4d8-667d4e5cb75b",
        "colab": {
          "base_uri": "https://localhost:8080/",
          "height": 68
        }
      },
      "source": [
        "# initializing integer \n",
        "s = '4'\n",
        "  \n",
        "# printing character converting to integer \n",
        "c = ord(s) \n",
        "print (\"After converting character to integer : \",end=\"\") \n",
        "print (c) \n",
        "  \n",
        "# printing integer converting to hexadecimal string \n",
        "c = hex(56) \n",
        "print (\"After converting 56 to hexadecimal string : \",end=\"\") \n",
        "print (c) \n",
        "  \n",
        "# printing integer converting to octal string \n",
        "c = oct(56) \n",
        "print (\"After converting 56 to octal string : \",end=\"\") \n",
        "print (c) "
      ],
      "execution_count": 0,
      "outputs": [
        {
          "output_type": "stream",
          "text": [
            "After converting character to integer : 52\n",
            "After converting 56 to hexadecimal string : 0x38\n",
            "After converting 56 to octal string : 0o70\n"
          ],
          "name": "stdout"
        }
      ]
    },
    {
      "cell_type": "code",
      "metadata": {
        "id": "xduGUdVFoxIn",
        "colab_type": "code",
        "outputId": "9f69161c-7dce-4fc1-ae6f-783d19753cb6",
        "colab": {
          "base_uri": "https://localhost:8080/",
          "height": 68
        }
      },
      "source": [
        "# initializing string \n",
        "s = 'geeks'\n",
        "  \n",
        "# printing string converting to tuple \n",
        "c = tuple(s) \n",
        "print (\"After converting string to tuple : \",end=\"\") \n",
        "print (c) \n",
        "  \n",
        "# printing string converting to set \n",
        "c = set(s) \n",
        "print (\"After converting string to set : \",end=\"\") \n",
        "print (c) \n",
        "  \n",
        "# printing string converting to list \n",
        "c = list(s) \n",
        "print (\"After converting string to list : \",end=\"\") \n",
        "print (c) "
      ],
      "execution_count": 0,
      "outputs": [
        {
          "output_type": "stream",
          "text": [
            "After converting string to tuple : ('g', 'e', 'e', 'k', 's')\n",
            "After converting string to set : {'e', 'k', 'g', 's'}\n",
            "After converting string to list : ['g', 'e', 'e', 'k', 's']\n"
          ],
          "name": "stdout"
        }
      ]
    },
    {
      "cell_type": "code",
      "metadata": {
        "id": "28JrcCrjo2lg",
        "colab_type": "code",
        "outputId": "88262e89-7abf-40db-f4ad-5df4fc89dd13",
        "colab": {
          "base_uri": "https://localhost:8080/",
          "height": 51
        }
      },
      "source": [
        "# initializing integers \n",
        "a = 1\n",
        "b = 2\n",
        "  \n",
        "# initializing tuple \n",
        "tup = (('a', 1) ,('f', 2), ('g', 3)) \n",
        "  \n",
        "# printing integer converting to complex number \n",
        "c = complex(1,2) \n",
        "print (\"After converting integer to complex number : \",end=\"\") \n",
        "print (c) \n",
        "  \n",
        "# printing integer converting to string \n",
        "#c = str(a) \n",
        "#print (\"After converting integer to string : \",end=\"\") \n",
        "#print (c) \n",
        "  \n",
        "# printing tuple converting to expression dictionary \n",
        "c = dict(tup) \n",
        "print (\"After converting tuple to dictionary : \",end=\"\") \n",
        "print (c) "
      ],
      "execution_count": 0,
      "outputs": [
        {
          "output_type": "stream",
          "text": [
            "After converting integer to complex number : (1+2j)\n",
            "After converting tuple to dictionary : {'a': 1, 'f': 2, 'g': 3}\n"
          ],
          "name": "stdout"
        }
      ]
    },
    {
      "cell_type": "markdown",
      "metadata": {
        "id": "JqyLlbCV3Oq1",
        "colab_type": "text"
      },
      "source": [
        "## Calculations with variables"
      ]
    },
    {
      "cell_type": "code",
      "metadata": {
        "id": "pWBqwqQf3MlZ",
        "colab_type": "code",
        "outputId": "699c71dd-1b90-4cf3-95cb-f794a17fd123",
        "colab": {
          "base_uri": "https://localhost:8080/",
          "height": 136
        }
      },
      "source": [
        "x=5\n",
        "y=3\n",
        "print(\"Addition:\",x+y)\n",
        "print(\"Subtraction:\",x-y)\n",
        "print(\"Multiplication:\",x*y)\n",
        "print(\"Division:\",x/y)\n",
        "print(\"Exponentiation:\",x**y)\n",
        "print(\"Floor Division:\",x//y)\n",
        "print(\"Modulo (Remainder):\",x%y)"
      ],
      "execution_count": 0,
      "outputs": [
        {
          "output_type": "stream",
          "text": [
            "Addition: 8\n",
            "Subtraction: 2\n",
            "Multiplication: 15\n",
            "Division: 1.6666666666666667\n",
            "Exponentiation: 125\n",
            "Floor Division: 1\n",
            "Modulo (Remainder): 2\n"
          ],
          "name": "stdout"
        }
      ]
    },
    {
      "cell_type": "markdown",
      "metadata": {
        "id": "Sj7SXxqE4Rfx",
        "colab_type": "text"
      },
      "source": [
        "## Strings and its operations"
      ]
    },
    {
      "cell_type": "code",
      "metadata": {
        "id": "anVJZ9vl4UUV",
        "colab_type": "code",
        "outputId": "53fe56d3-7ae6-4f11-e313-fe5d1e808699",
        "colab": {
          "base_uri": "https://localhost:8080/",
          "height": 255
        }
      },
      "source": [
        "s=\"MGM's JNEC\"\n",
        "print(\"Complete String :\",s)\n",
        "print(\"String Repetition :\",s*2)\n",
        "print(\"String concatination :\",s+\" Aurangabad\")\n",
        "print(\"First character from string :\",s[0])\n",
        "# Slicing operator systax str[start:end:step] where start index is inclusive and end index is exclusive\n",
        "print(\"String slicing operator print complete string :\",s[:])\n",
        "print(\"First 3 characters :\",s[:3]) \n",
        "print(\"ALternate characters :\",s[::2])\n",
        "print(s[-1:-4]) #prints nothing, when slicing operator takes negative index then negative step value is necessary \n",
        "print(\"Reverse string :\",s[::-1])\n",
        "print(\"Alternate characters from reverse string :\",s[-1::-2])\n",
        "print(\"Alternate characters from resverse string :\",s[::-2])\n",
        "print(\"ALternate characters from given range in reverse string :\",s[-1:-4:-2])\n",
        "print(\"Check for perticular character is in the string or not (Case Sensitive) :\",'s' in s)\n",
        "print(\"Check for available character in given string :\",'S' in s)"
      ],
      "execution_count": 0,
      "outputs": [
        {
          "output_type": "stream",
          "text": [
            "Complete String : MGM's JNEC\n",
            "String Repetition : MGM's JNECMGM's JNEC\n",
            "String concatination : MGM's JNEC Aurangabad\n",
            "First character from string : M\n",
            "String slicing operator print complete string : MGM's JNEC\n",
            "First 3 characters : MGM\n",
            "ALternate characters : MMsJE\n",
            "\n",
            "Reverse string : CENJ s'MGM\n",
            "Alternate characters from reverse string : CN 'G\n",
            "Alternate characters from resverse string : CN 'G\n",
            "ALternate characters from given range in reverse string : CN\n",
            "Check for perticular character is in the string or not (Case Sensitive) : True\n",
            "Check for available character in given string : False\n"
          ],
          "name": "stdout"
        }
      ]
    },
    {
      "cell_type": "markdown",
      "metadata": {
        "id": "3GrX-gJu5xDC",
        "colab_type": "text"
      },
      "source": [
        "### String Methods"
      ]
    },
    {
      "cell_type": "code",
      "metadata": {
        "id": "QRaNhcb053Dn",
        "colab_type": "code",
        "outputId": "309e8d86-6866-43af-cc69-a395783fd362",
        "colab": {
          "base_uri": "https://localhost:8080/",
          "height": 238
        }
      },
      "source": [
        "#All string methods returns new values. They do not change the original string.\n",
        "my_string=\"  I like Machine Learning course by Prof. Charudatt Mane  \"\n",
        "print(my_string.upper())\n",
        "print(my_string.lower())\n",
        "print(my_string.capitalize())\n",
        "print(my_string.title())\n",
        "print(my_string.count('c'))\n",
        "print(my_string.replace(\"Prof.\",\"Mr.\"))\n",
        "print(my_string.strip())  #lstrip() rstrip()\n",
        "print(my_string.split(\" \"))\n",
        "print(len(my_string))\n",
        "print(my_string.find(\"I\"))\n",
        "print(my_string.lstrip().startswith(\"I\"))\n",
        "AccNum=\"123456\"  # at least 10 digits are required \n",
        "print(\"Right justified string:\",AccNum.rjust(10,'0'))\n",
        "print(\"Left justified string:\",AccNum.ljust(10,'#'))\n",
        "#isalnum()  isalpha()  isdigit()  islower()  isspace()  istitle()  isupper()"
      ],
      "execution_count": 0,
      "outputs": [
        {
          "output_type": "stream",
          "text": [
            "  I LIKE MACHINE LEARNING COURSE BY PROF. CHARUDATT MANE  \n",
            "  i like machine learning course by prof. charudatt mane  \n",
            "  i like machine learning course by prof. charudatt mane  \n",
            "  I Like Machine Learning Course By Prof. Charudatt Mane  \n",
            "2\n",
            "  I like Machine Learning course by Mr. Charudatt Mane  \n",
            "I like Machine Learning course by Prof. Charudatt Mane\n",
            "['', '', 'I', 'like', 'Machine', 'Learning', 'course', 'by', 'Prof.', 'Charudatt', 'Mane', '', '']\n",
            "58\n",
            "2\n",
            "True\n",
            "Right justified string: 0000123456\n",
            "Left justified string: 123456####\n"
          ],
          "name": "stdout"
        }
      ]
    },
    {
      "cell_type": "markdown",
      "metadata": {
        "id": "TyQT5RZo3B8l",
        "colab_type": "text"
      },
      "source": [
        "##Core Data Structures "
      ]
    },
    {
      "cell_type": "markdown",
      "metadata": {
        "id": "1Ix71R4OrENE",
        "colab_type": "text"
      },
      "source": [
        "###List "
      ]
    },
    {
      "cell_type": "code",
      "metadata": {
        "id": "_Ksohh6U25PS",
        "colab_type": "code",
        "outputId": "e1bb7161-8835-40ea-90f1-675673ab1845",
        "colab": {
          "base_uri": "https://localhost:8080/",
          "height": 323
        }
      },
      "source": [
        "# Creating a List \n",
        "List = [] \n",
        "print(\"Intial blank List: \") \n",
        "print(List) \n",
        "  \n",
        "# Creating a List with  \n",
        "# the use of a String \n",
        "List = ['MGMJNEC'] \n",
        "print(\"\\nList with the use of String: \") \n",
        "print(List) \n",
        "  \n",
        "# Creating a List with \n",
        "# the use of multiple values \n",
        "List = [\"MGM\", \"JNEC\", \"Aurangabad\"] \n",
        "print(\"\\nList containing multiple values: \") \n",
        "print(List[0])  \n",
        "print(List[2]) \n",
        "  \n",
        "# Creating a Multi-Dimensional List \n",
        "# (By Nesting a list inside a List) \n",
        "List = [['MGM', 'JNEC'] , ['Auranagabad']] \n",
        "print(\"\\nMulti-Dimensional List: \") \n",
        "print(List) \n",
        "  \n",
        "# Creating a List with  \n",
        "# the use of Numbers \n",
        "# (Having duplicate values) \n",
        "List = [1, 2, 4, 4, 3, 3, 3, 6, 5] \n",
        "print(\"\\nList with the use of Numbers: \") \n",
        "print(List) \n",
        "  \n",
        "# Creating a List with  \n",
        "# mixed type of values \n",
        "# (Having numbers and strings) \n",
        "List = [1, 2, 'MGM', 4, 'CSE', 6, 'JNEC'] \n",
        "print(\"\\nList with the use of Mixed Values: \") \n",
        "print(List) "
      ],
      "execution_count": 0,
      "outputs": [
        {
          "output_type": "stream",
          "text": [
            "Intial blank List: \n",
            "[]\n",
            "\n",
            "List with the use of String: \n",
            "['MGMJNEC']\n",
            "\n",
            "List containing multiple values: \n",
            "MGM\n",
            "Aurangabad\n",
            "\n",
            "Multi-Dimensional List: \n",
            "[['MGM', 'JNEC'], ['Auranagabad']]\n",
            "\n",
            "List with the use of Numbers: \n",
            "[1, 2, 4, 4, 3, 3, 3, 6, 5]\n",
            "\n",
            "List with the use of Mixed Values: \n",
            "[1, 2, 'MGM', 4, 'CSE', 6, 'JNEC']\n"
          ],
          "name": "stdout"
        }
      ]
    },
    {
      "cell_type": "code",
      "metadata": {
        "id": "x6jISoq4rjp2",
        "colab_type": "code",
        "outputId": "cab6cbb4-4aae-46a6-f095-24feabc9dbb8",
        "colab": {
          "base_uri": "https://localhost:8080/",
          "height": 357
        }
      },
      "source": [
        "# Python program to demonstrate  \n",
        "# Addition of elements in a List \n",
        "  \n",
        "# Creating a List \n",
        "List = [] \n",
        "print(\"Intial blank List: \") \n",
        "print(List) \n",
        "  \n",
        "# Addition of Elements  \n",
        "# in the List \n",
        "List.append(1) \n",
        "List.append(2) \n",
        "List.append(4) \n",
        "print(\"\\nList after Addition of Three elements: \") \n",
        "print(List) \n",
        "  \n",
        "# Adding elements to the List \n",
        "# using Iterator \n",
        "for i in range(1, 4): \n",
        "    List.append(i) \n",
        "print(\"\\nList after Addition of elements from 1-3: \") \n",
        "print(List) \n",
        "  \n",
        "# Adding Tuples to the List \n",
        "List.append((5, 6)) \n",
        "print(\"\\nList after Addition of a Tuple: \") \n",
        "print(List) \n",
        "  \n",
        "# Addition of List to a List \n",
        "List2 = ['JNEC', 'Aurangabad'] \n",
        "List.append(List2) \n",
        "print(\"\\nList after Addition of a List: \") \n",
        "print(List) \n",
        "  \n",
        "# Addition of Element at  \n",
        "# specific Position \n",
        "# (using Insert Method) \n",
        "List.insert(3, 12) \n",
        "List2.insert(0, 'MGM') \n",
        "print(\"\\nList after performing Insert Operation: \") \n",
        "print(List) \n",
        "  \n",
        "# Addition of multiple elements \n",
        "# to the List at the end \n",
        "# (using Extend Method) \n",
        "List.extend([8, 'N6', 'CIDCO']) \n",
        "print(\"\\nList after performing Extend Operation: \") \n",
        "print(List) "
      ],
      "execution_count": 0,
      "outputs": [
        {
          "output_type": "stream",
          "text": [
            "Intial blank List: \n",
            "[]\n",
            "\n",
            "List after Addition of Three elements: \n",
            "[1, 2, 4]\n",
            "\n",
            "List after Addition of elements from 1-3: \n",
            "[1, 2, 4, 1, 2, 3]\n",
            "\n",
            "List after Addition of a Tuple: \n",
            "[1, 2, 4, 1, 2, 3, (5, 6)]\n",
            "\n",
            "List after Addition of a List: \n",
            "[1, 2, 4, 1, 2, 3, (5, 6), ['JNEC', 'Aurangabad']]\n",
            "\n",
            "List after performing Insert Operation: \n",
            "[1, 2, 4, 12, 1, 2, 3, (5, 6), ['MGM', 'JNEC', 'Aurangabad']]\n",
            "\n",
            "List after performing Extend Operation: \n",
            "[1, 2, 4, 12, 1, 2, 3, (5, 6), ['MGM', 'JNEC', 'Aurangabad'], 8, 'N6', 'CIDCO']\n"
          ],
          "name": "stdout"
        }
      ]
    },
    {
      "cell_type": "code",
      "metadata": {
        "id": "_CKvajv_sSUa",
        "colab_type": "code",
        "outputId": "b1987773-1587-42ab-f847-3728a6079bf6",
        "colab": {
          "base_uri": "https://localhost:8080/",
          "height": 170
        }
      },
      "source": [
        "# accessing of element from list \n",
        "  \n",
        "# Creating a List with \n",
        "# the use of multiple values \n",
        "List = [\"MGM\", \"JNEC\", \"CSE\"] \n",
        "  \n",
        "# accessing a element from the  \n",
        "# list using index number \n",
        "print(\"Accessing a element from the list\") \n",
        "print(List[0])  \n",
        "print(List[2]) \n",
        "  \n",
        "# Creating a Multi-Dimensional List \n",
        "# (By Nesting a list inside a List) \n",
        "List = [['MGM', 'JNEC'] , ['Aurangabad']] \n",
        "  \n",
        "# accessing a element from the  \n",
        "# Multi-Dimensional List using \n",
        "# index number \n",
        "print(\"Acessing a element from a Multi-Dimensional list\") \n",
        "print(List[0][1]) \n",
        "print(List[1][0]) \n",
        "  \n",
        "  \n",
        "List = [1, 2, 'MGM', 4, 'CSE', 6, 'JNEC'] \n",
        "  \n",
        "# accessing a element using \n",
        "# negative indexing \n",
        "print(\"Acessing element using negative indexing\") \n",
        "  \n",
        "# print the last element of list \n",
        "print(List[-1]) \n",
        "  \n",
        "# print the third last element of list  \n",
        "print(List[-3]) "
      ],
      "execution_count": 0,
      "outputs": [
        {
          "output_type": "stream",
          "text": [
            "Accessing a element from the list\n",
            "MGM\n",
            "CSE\n",
            "Acessing a element from a Multi-Dimensional list\n",
            "JNEC\n",
            "Aurangabad\n",
            "Acessing element using negative indexing\n",
            "JNEC\n",
            "CSE\n"
          ],
          "name": "stdout"
        }
      ]
    },
    {
      "cell_type": "code",
      "metadata": {
        "id": "FExcHu0lsj1M",
        "colab_type": "code",
        "outputId": "696af00a-55d9-4a31-82ae-a4c9dd85dee0",
        "colab": {
          "base_uri": "https://localhost:8080/",
          "height": 255
        }
      },
      "source": [
        "# Removal of elements in a List \n",
        "  \n",
        "# Creating a List \n",
        "List = [1, 2, 3, 4, 5, 6,  \n",
        "        7, 8, 9, 10, 11, 12] \n",
        "print(\"Intial List: \") \n",
        "print(List) \n",
        "  \n",
        "# Removing elements from List \n",
        "# using Remove() method \n",
        "List.remove(5) \n",
        "List.remove(6) \n",
        "print(\"\\nList after Removal of two elements: \") \n",
        "print(List) \n",
        "  \n",
        "# Removing elements from List \n",
        "# using iterator method \n",
        "for i in range(1, 5): \n",
        "    List.remove(i) \n",
        "print(\"\\nList after Removing a range of elements: \") \n",
        "print(List) \n",
        "  \n",
        "# Removing element from the  \n",
        "# Set using the pop() method \n",
        "List.pop() \n",
        "print(\"\\nList after popping an element: \") \n",
        "print(List) \n",
        "  \n",
        "# Removing element at a  \n",
        "# specific location from the  \n",
        "# Set using the pop() method \n",
        "List.pop(2) \n",
        "print(\"\\nList after popping a specific element: \") \n",
        "print(List) "
      ],
      "execution_count": 0,
      "outputs": [
        {
          "output_type": "stream",
          "text": [
            "Intial List: \n",
            "[1, 2, 3, 4, 5, 6, 7, 8, 9, 10, 11, 12]\n",
            "\n",
            "List after Removal of two elements: \n",
            "[1, 2, 3, 4, 7, 8, 9, 10, 11, 12]\n",
            "\n",
            "List after Removing a range of elements: \n",
            "[7, 8, 9, 10, 11, 12]\n",
            "\n",
            "List after popping an element: \n",
            "[7, 8, 9, 10, 11]\n",
            "\n",
            "List after popping a specific element: \n",
            "[7, 8, 10, 11]\n"
          ],
          "name": "stdout"
        }
      ]
    },
    {
      "cell_type": "code",
      "metadata": {
        "id": "JYwLadD_tF4U",
        "colab_type": "code",
        "outputId": "25ca0a59-b3c0-470e-f420-52f49061c040",
        "colab": {
          "base_uri": "https://localhost:8080/",
          "height": 306
        }
      },
      "source": [
        "# Removal of elements in a List \n",
        "  \n",
        "# Creating a List \n",
        "List = ['M','A','C','H','I','N','E','L','E','A','R','N','I','N','G'] \n",
        "print(\"Intial List: \") \n",
        "print(List) \n",
        "  \n",
        "# Print elements of a range \n",
        "# using Slice operation \n",
        "Sliced_List = List[3:8] \n",
        "print(\"\\nSlicing elements in a range 3-8: \") \n",
        "print(Sliced_List) \n",
        "  \n",
        "# Print elements from beginning \n",
        "# to a pre-defined point using Slice \n",
        "Sliced_List = List[:-6] \n",
        "print(\"\\nElements sliced till 6th element from last: \") \n",
        "print(Sliced_List) \n",
        "  \n",
        "# Print elements from a  \n",
        "# pre-defined point to end \n",
        "Sliced_List = List[5:] \n",
        "print(\"\\nElements sliced from 5th \"\n",
        "      \"element till the end: \") \n",
        "print(Sliced_List) \n",
        "  \n",
        "# Printing elements from \n",
        "# beginning till end \n",
        "Sliced_List = List[:] \n",
        "print(\"\\nPrinting all elements using slice operation: \") \n",
        "print(Sliced_List) \n",
        "  \n",
        "# Printing elements in reverse \n",
        "# using Slice operation \n",
        "Sliced_List = List[::-1] \n",
        "print(\"\\nPrinting List in reverse: \") \n",
        "print(Sliced_List) "
      ],
      "execution_count": 0,
      "outputs": [
        {
          "output_type": "stream",
          "text": [
            "Intial List: \n",
            "['M', 'A', 'C', 'H', 'I', 'N', 'E', 'L', 'E', 'A', 'R', 'N', 'I', 'N', 'G']\n",
            "\n",
            "Slicing elements in a range 3-8: \n",
            "['H', 'I', 'N', 'E', 'L']\n",
            "\n",
            "Elements sliced till 6th element from last: \n",
            "['M', 'A', 'C', 'H', 'I', 'N', 'E', 'L', 'E']\n",
            "\n",
            "Elements sliced from 5th element till the end: \n",
            "['N', 'E', 'L', 'E', 'A', 'R', 'N', 'I', 'N', 'G']\n",
            "\n",
            "Printing all elements using slice operation: \n",
            "['M', 'A', 'C', 'H', 'I', 'N', 'E', 'L', 'E', 'A', 'R', 'N', 'I', 'N', 'G']\n",
            "\n",
            "Printing List in reverse: \n",
            "['G', 'N', 'I', 'N', 'R', 'A', 'E', 'L', 'E', 'N', 'I', 'H', 'C', 'A', 'M']\n"
          ],
          "name": "stdout"
        }
      ]
    },
    {
      "cell_type": "markdown",
      "metadata": {
        "id": "L7L2k0kbtXDI",
        "colab_type": "text"
      },
      "source": [
        "###Tuples"
      ]
    },
    {
      "cell_type": "code",
      "metadata": {
        "id": "2r5O8wr6tfZe",
        "colab_type": "code",
        "outputId": "9a1a09cd-2b43-4770-e1d3-d41e2436eae2",
        "colab": {
          "base_uri": "https://localhost:8080/",
          "height": 476
        }
      },
      "source": [
        "# Creating an empty tuple \n",
        "Tuple1 = () \n",
        "print(\"Initial empty Tuple: \") \n",
        "print (Tuple1) \n",
        "  \n",
        "# Creating a Tuple with  \n",
        "# the use of Strings \n",
        "Tuple1 = ('ML', 'TY') \n",
        "print(\"\\nTuple with the use of String: \") \n",
        "print(Tuple1) \n",
        "  \n",
        "# Creating a Tuple with \n",
        "# the use of list \n",
        "list1 = [1, 2, 4, 5, 6] \n",
        "print(\"\\nTuple using List: \") \n",
        "print(tuple(list1)) \n",
        "  \n",
        "# Creating a Tuple \n",
        "# with the use of loop \n",
        "Tuple1 = ('MGM') \n",
        "n = 5\n",
        "print(\"\\nTuple with a loop\") \n",
        "for i in range(int(n)): \n",
        "    Tuple1 = (Tuple1,) \n",
        "    print(Tuple1) \n",
        "  \n",
        "# Creating a Tuple with the \n",
        "# use of built-in function \n",
        "Tuple1 = tuple('CSE') \n",
        "print(\"\\nTuple with the use of function: \") \n",
        "print(Tuple1) \n",
        "  \n",
        "# Creating a Tuple with  \n",
        "# Mixed Datatypes \n",
        "Tuple1 = (5, 'Welcome', 7, 'JNEC') \n",
        "print(\"\\nTuple with Mixed Datatypes: \") \n",
        "print(Tuple1) \n",
        "  \n",
        "# Creating a Tuple  \n",
        "# with nested tuples \n",
        "Tuple1 = (0, 1, 2, 3) \n",
        "Tuple2 = ('python', 'ML') \n",
        "Tuple3 = (Tuple1, Tuple2) \n",
        "print(\"\\nTuple with nested tuples: \") \n",
        "print(Tuple3) \n",
        "  \n",
        "# Creating a Tuple  \n",
        "# with repetition \n",
        "Tuple1 = ('CSE',) * 3\n",
        "print(\"\\nTuple with repetition: \") \n",
        "print(Tuple1) "
      ],
      "execution_count": 0,
      "outputs": [
        {
          "output_type": "stream",
          "text": [
            "Initial empty Tuple: \n",
            "()\n",
            "\n",
            "Tuple with the use of String: \n",
            "('ML', 'TY')\n",
            "\n",
            "Tuple using List: \n",
            "(1, 2, 4, 5, 6)\n",
            "\n",
            "Tuple with a loop\n",
            "('MGM',)\n",
            "(('MGM',),)\n",
            "((('MGM',),),)\n",
            "(((('MGM',),),),)\n",
            "((((('MGM',),),),),)\n",
            "\n",
            "Tuple with the use of function: \n",
            "('C', 'S', 'E')\n",
            "\n",
            "Tuple with Mixed Datatypes: \n",
            "(5, 'Welcome', 7, 'JNEC')\n",
            "\n",
            "Tuple with nested tuples: \n",
            "((0, 1, 2, 3), ('python', 'ML'))\n",
            "\n",
            "Tuple with repetition: \n",
            "('CSE', 'CSE', 'CSE')\n"
          ],
          "name": "stdout"
        }
      ]
    },
    {
      "cell_type": "code",
      "metadata": {
        "id": "K0BvRXLuuEpl",
        "colab_type": "code",
        "outputId": "0f753fcc-44a6-4818-b693-c04eac779397",
        "colab": {
          "base_uri": "https://localhost:8080/",
          "height": 153
        }
      },
      "source": [
        "# Concatenaton of tuples \n",
        "Tuple1 = (0, 1, 2, 3) \n",
        "Tuple2 = ('MGM', 'JNEC', 'CSE') \n",
        "  \n",
        "Tuple3 = Tuple1 + Tuple2 \n",
        "  \n",
        "# Printing first Tuple \n",
        "print(\"Tuple 1: \") \n",
        "print(Tuple1) \n",
        "  \n",
        "# Printing Second Tuple \n",
        "print(\"\\nTuple2: \") \n",
        "print(Tuple2) \n",
        "  \n",
        "# Printing Final Tuple \n",
        "print(\"\\nTuples after Concatenaton: \") \n",
        "print(Tuple3) "
      ],
      "execution_count": 0,
      "outputs": [
        {
          "output_type": "stream",
          "text": [
            "Tuple 1: \n",
            "(0, 1, 2, 3)\n",
            "\n",
            "Tuple2: \n",
            "('MGM', 'JNEC', 'CSE')\n",
            "\n",
            "Tuples after Concatenaton: \n",
            "(0, 1, 2, 3, 'MGM', 'JNEC', 'CSE')\n"
          ],
          "name": "stdout"
        }
      ]
    },
    {
      "cell_type": "code",
      "metadata": {
        "id": "GkTKux-ouLzO",
        "colab_type": "code",
        "outputId": "eff9c7db-32db-4cc1-b06b-0febeffbe2d0",
        "colab": {
          "base_uri": "https://localhost:8080/",
          "height": 153
        }
      },
      "source": [
        "# Slicing of a Tuple \n",
        "  \n",
        "# Slicing of a Tuple \n",
        "# with Numbers \n",
        "Tuple1 = tuple('MGM\\'sJNEC') \n",
        "  \n",
        "# Removing First element \n",
        "print(\"Removal of First Element: \") \n",
        "print(Tuple1[1:]) \n",
        "  \n",
        "# Reversing the Tuple  \n",
        "print(\"\\nTuple after sequence of Element is reversed: \") \n",
        "print(Tuple1[::-1]) \n",
        "  \n",
        "# Printing elements of a Range \n",
        "print(\"\\nPrinting elements between Range 4-9: \") \n",
        "print(Tuple1[4:9]) "
      ],
      "execution_count": 0,
      "outputs": [
        {
          "output_type": "stream",
          "text": [
            "Removal of First Element: \n",
            "('G', 'M', \"'\", 's', 'J', 'N', 'E', 'C')\n",
            "\n",
            "Tuple after sequence of Element is reversed: \n",
            "('C', 'E', 'N', 'J', 's', \"'\", 'M', 'G', 'M')\n",
            "\n",
            "Printing elements between Range 4-9: \n",
            "('s', 'J', 'N', 'E', 'C')\n"
          ],
          "name": "stdout"
        }
      ]
    },
    {
      "cell_type": "markdown",
      "metadata": {
        "id": "xw6WMaAruak6",
        "colab_type": "text"
      },
      "source": [
        "###Set "
      ]
    },
    {
      "cell_type": "code",
      "metadata": {
        "id": "9NZK5PPkubo7",
        "colab_type": "code",
        "outputId": "18fc5e1e-32df-4cf9-8768-f728a7f30f4c",
        "colab": {
          "base_uri": "https://localhost:8080/",
          "height": 306
        }
      },
      "source": [
        "# Creating a Set \n",
        "set1 = set() \n",
        "print(\"Intial blank Set: \") \n",
        "print(set1) \n",
        "  \n",
        "# Creating a Set with  \n",
        "# the use of a String \n",
        "set1 = set(\"BondJamesBond\") \n",
        "print(\"\\nSet with the use of String: \") \n",
        "print(set1) \n",
        "  \n",
        "# Creating a Set with \n",
        "# the use of Constructor \n",
        "# (Using object to Store String) \n",
        "String = 'BondJamesBond'\n",
        "set1 = set(String) \n",
        "print(\"\\nSet with the use of an Object: \" ) \n",
        "print(set1) \n",
        "  \n",
        "# Creating a Set with \n",
        "# the use of a List \n",
        "set1 = set([\"MGM\", \"CSE\", \"JNEC\"]) \n",
        "print(\"\\nSet with the use of List: \") \n",
        "print(set1) \n",
        "  \n",
        "# Creating a Set with  \n",
        "# a List of Numbers \n",
        "# (Having duplicate values) \n",
        "set1 = set([1, 2, 4, 4, 3, 3, 3, 6, 5]) \n",
        "print(\"\\nSet with the use of Numbers: \") \n",
        "print(set1) \n",
        "  \n",
        "# Creating a Set with  \n",
        "# a mixed type of values \n",
        "# (Having numbers and strings) \n",
        "set1 = set([1, 2, 'CSE', 4, 'JNEC', 6, 'MGM']) \n",
        "print(\"\\nSet with the use of Mixed Values\") \n",
        "print(set1) "
      ],
      "execution_count": 0,
      "outputs": [
        {
          "output_type": "stream",
          "text": [
            "Intial blank Set: \n",
            "set()\n",
            "\n",
            "Set with the use of String: \n",
            "{'o', 's', 'm', 'd', 'B', 'J', 'e', 'a', 'n'}\n",
            "\n",
            "Set with the use of an Object: \n",
            "{'o', 's', 'm', 'd', 'B', 'J', 'e', 'a', 'n'}\n",
            "\n",
            "Set with the use of List: \n",
            "{'MGM', 'JNEC', 'CSE'}\n",
            "\n",
            "Set with the use of Numbers: \n",
            "{1, 2, 3, 4, 5, 6}\n",
            "\n",
            "Set with the use of Mixed Values\n",
            "{'MGM', 1, 2, 4, 'CSE', 6, 'JNEC'}\n"
          ],
          "name": "stdout"
        }
      ]
    },
    {
      "cell_type": "code",
      "metadata": {
        "id": "Qbyhwa8AvA4G",
        "colab_type": "code",
        "outputId": "a5ed0296-89cd-4060-feb4-0401dafe6870",
        "colab": {
          "base_uri": "https://localhost:8080/",
          "height": 255
        }
      },
      "source": [
        "# Addition of elements in a Set \n",
        "  \n",
        "# Creating a Set \n",
        "set1 = set() \n",
        "print(\"Intial blank Set: \") \n",
        "print(set1) \n",
        "  \n",
        "# Adding element to the Set \n",
        "set1.add(8) \n",
        "set1.add(9) \n",
        "set1.add(12) \n",
        "print(\"\\nSet after Addition of Three elements: \") \n",
        "print(set1) \n",
        "  \n",
        "# Adding elements to the Set \n",
        "# using Iterator \n",
        "for i in range(1, 6): \n",
        "    set1.add(i) \n",
        "print(\"\\nSet after Addition of elements from 1-5: \") \n",
        "print(set1) \n",
        "  \n",
        "# Adding Tuples to the Set \n",
        "set1.add((6,7)) \n",
        "print(\"\\nSet after Addition of a Tuple: \") \n",
        "print(set1) \n",
        "  \n",
        "# Addition of elements to the Set \n",
        "# using Update function \n",
        "set1.update([10, 11]) \n",
        "print(\"\\nSet after Addition of elements using Update: \") \n",
        "print(set1) "
      ],
      "execution_count": 0,
      "outputs": [
        {
          "output_type": "stream",
          "text": [
            "Intial blank Set: \n",
            "set()\n",
            "\n",
            "Set after Addition of Three elements: \n",
            "{8, 9, 12}\n",
            "\n",
            "Set after Addition of elements from 1-5: \n",
            "{1, 2, 3, 4, 5, 8, 9, 12}\n",
            "\n",
            "Set after Addition of a Tuple: \n",
            "{1, 2, 3, 4, 5, (6, 7), 8, 9, 12}\n",
            "\n",
            "Set after Addition of elements using Update: \n",
            "{1, 2, 3, 4, 5, (6, 7), 8, 9, 10, 11, 12}\n"
          ],
          "name": "stdout"
        }
      ]
    },
    {
      "cell_type": "code",
      "metadata": {
        "id": "pChyrUN1vNBy",
        "colab_type": "code",
        "outputId": "4b99aec8-7386-4eb9-9958-4924870e6311",
        "colab": {
          "base_uri": "https://localhost:8080/",
          "height": 306
        }
      },
      "source": [
        "# Creating a Set \n",
        "set1 = set([1, 2, 3, 4, 5, 6,  \n",
        "            7, 8, 9, 10, 11, 12]) \n",
        "print(\"Intial Set: \") \n",
        "print(set1) \n",
        "  \n",
        "# Removing elements from Set \n",
        "# using Remove() method \n",
        "set1.remove(5) \n",
        "set1.remove(6) \n",
        "print(\"\\nSet after Removal of two elements: \") \n",
        "print(set1) \n",
        "  \n",
        "# Removing elements from Set \n",
        "# using Discard() method \n",
        "set1.discard(8) \n",
        "set1.discard(9) \n",
        "print(\"\\nSet after Discarding two elements: \") \n",
        "print(set1) \n",
        "  \n",
        "# Removing elements from Set \n",
        "# using iterator method \n",
        "for i in range(1, 5): \n",
        "    set1.remove(i) \n",
        "print(\"\\nSet after Removing a range of elements: \") \n",
        "print(set1) \n",
        "  \n",
        "# Removing element from the  \n",
        "# Set using the pop() method \n",
        "set1.pop() \n",
        "print(\"\\nSet after popping an element: \") \n",
        "print(set1) \n",
        "  \n",
        "# Removing all the elements from  \n",
        "# Set using clear() method \n",
        "set1.clear() \n",
        "print(\"\\nSet after clearing all the elements: \") \n",
        "print(set1) "
      ],
      "execution_count": 0,
      "outputs": [
        {
          "output_type": "stream",
          "text": [
            "Intial Set: \n",
            "{1, 2, 3, 4, 5, 6, 7, 8, 9, 10, 11, 12}\n",
            "\n",
            "Set after Removal of two elements: \n",
            "{1, 2, 3, 4, 7, 8, 9, 10, 11, 12}\n",
            "\n",
            "Set after Discarding two elements: \n",
            "{1, 2, 3, 4, 7, 10, 11, 12}\n",
            "\n",
            "Set after Removing a range of elements: \n",
            "{7, 10, 11, 12}\n",
            "\n",
            "Set after popping an element: \n",
            "{10, 11, 12}\n",
            "\n",
            "Set after clearing all the elements: \n",
            "set()\n"
          ],
          "name": "stdout"
        }
      ]
    },
    {
      "cell_type": "markdown",
      "metadata": {
        "id": "bSJ01qbqv0wR",
        "colab_type": "text"
      },
      "source": [
        "###Dictionary"
      ]
    },
    {
      "cell_type": "code",
      "metadata": {
        "id": "uw0s8of8v2jU",
        "colab_type": "code",
        "outputId": "17db8a1c-7a03-497f-bfea-c3300be6d8f9",
        "colab": {
          "base_uri": "https://localhost:8080/",
          "height": 255
        }
      },
      "source": [
        "# Creating an empty Dictionary \n",
        "Dict = {} \n",
        "print(\"Empty Dictionary: \") \n",
        "print(Dict) \n",
        "  \n",
        "# Creating a Dictionary  \n",
        "# with Integer Keys \n",
        "Dict = {1: 'MGM', 2: 'JNEC', 3: 'CSE'} \n",
        "print(\"\\nDictionary with the use of Integer Keys: \") \n",
        "print(Dict) \n",
        "  \n",
        "# Creating a Dictionary  \n",
        "# with Mixed keys \n",
        "Dict = {'Name': 'MGM', 1: [1, 2, 3, 4]} \n",
        "print(\"\\nDictionary with the use of Mixed Keys: \") \n",
        "print(Dict) \n",
        "  \n",
        "# Creating a Dictionary \n",
        "# with dict() method \n",
        "Dict = dict({1: 'MGM', 2: 'CSE', 3:'JNEC'}) \n",
        "print(\"\\nDictionary with the use of dict(): \") \n",
        "print(Dict) \n",
        "  \n",
        "# Creating a Dictionary \n",
        "# with each item as a Pair \n",
        "Dict = dict([(1, 'MGM'), (2, 'JNEC')]) \n",
        "print(\"\\nDictionary with each item as a pair: \") \n",
        "print(Dict) "
      ],
      "execution_count": 0,
      "outputs": [
        {
          "output_type": "stream",
          "text": [
            "Empty Dictionary: \n",
            "{}\n",
            "\n",
            "Dictionary with the use of Integer Keys: \n",
            "{1: 'MGM', 2: 'JNEC', 3: 'CSE'}\n",
            "\n",
            "Dictionary with the use of Mixed Keys: \n",
            "{'Name': 'MGM', 1: [1, 2, 3, 4]}\n",
            "\n",
            "Dictionary with the use of dict(): \n",
            "{1: 'MGM', 2: 'CSE', 3: 'JNEC'}\n",
            "\n",
            "Dictionary with each item as a pair: \n",
            "{1: 'MGM', 2: 'JNEC'}\n"
          ],
          "name": "stdout"
        }
      ]
    },
    {
      "cell_type": "code",
      "metadata": {
        "id": "R-nalphdwe3D",
        "colab_type": "code",
        "outputId": "e266a44f-2471-4228-8962-6e396f39cc7e",
        "colab": {
          "base_uri": "https://localhost:8080/",
          "height": 255
        }
      },
      "source": [
        "# Creating an empty Dictionary \n",
        "Dict = {} \n",
        "print(\"Empty Dictionary: \") \n",
        "print(Dict) \n",
        "  \n",
        "# Adding elements one at a time \n",
        "Dict[0] = 'MGM'\n",
        "Dict[2] = 'JNEC'\n",
        "Dict[3] = 1\n",
        "print(\"\\nDictionary after adding 3 elements: \") \n",
        "print(Dict) \n",
        "  \n",
        "# Adding set of values  \n",
        "# to a single Key \n",
        "Dict['Value_set'] = 2, 3, 4\n",
        "print(\"\\nDictionary after adding 3 elements: \") \n",
        "print(Dict) \n",
        "  \n",
        "# Updating existing Key's Value \n",
        "Dict[2] = 'Welcome'\n",
        "print(\"\\nUpdated key value: \") \n",
        "print(Dict) \n",
        "  \n",
        "# Adding Nested Key value to Dictionary \n",
        "Dict[5] = {'Nested' :{'1' : 'ML', '2' : 'Course'}} \n",
        "print(\"\\nAdding a Nested Key: \") \n",
        "print(Dict) "
      ],
      "execution_count": 0,
      "outputs": [
        {
          "output_type": "stream",
          "text": [
            "Empty Dictionary: \n",
            "{}\n",
            "\n",
            "Dictionary after adding 3 elements: \n",
            "{0: 'MGM', 2: 'JNEC', 3: 1}\n",
            "\n",
            "Dictionary after adding 3 elements: \n",
            "{0: 'MGM', 2: 'JNEC', 3: 1, 'Value_set': (2, 3, 4)}\n",
            "\n",
            "Updated key value: \n",
            "{0: 'MGM', 2: 'Welcome', 3: 1, 'Value_set': (2, 3, 4)}\n",
            "\n",
            "Adding a Nested Key: \n",
            "{0: 'MGM', 2: 'Welcome', 3: 1, 'Value_set': (2, 3, 4), 5: {'Nested': {'1': 'ML', '2': 'Course'}}}\n"
          ],
          "name": "stdout"
        }
      ]
    },
    {
      "cell_type": "code",
      "metadata": {
        "id": "ndQk1d5Rwvq2",
        "colab_type": "code",
        "outputId": "60cb2963-e7c6-4eb2-adfb-0e8c0d902141",
        "colab": {
          "base_uri": "https://localhost:8080/",
          "height": 119
        }
      },
      "source": [
        "# accesing a element from a Dictionary  \n",
        "  \n",
        "# Creating a Dictionary  \n",
        "Dict = {1: 'MGM', 'name': 'CSE', 3: 'JNEC'} \n",
        "  \n",
        "# accessing a element using key \n",
        "print(\"Acessing a element using key:\") \n",
        "print(Dict['name']) \n",
        "  \n",
        "# accessing a element using key \n",
        "print(\"Acessing a element using key:\") \n",
        "print(Dict[1]) \n",
        "  \n",
        "# accessing a element using get() \n",
        "# method \n",
        "print(\"Acessing a element using get:\") \n",
        "print(Dict.get(3)) "
      ],
      "execution_count": 0,
      "outputs": [
        {
          "output_type": "stream",
          "text": [
            "Acessing a element using key:\n",
            "CSE\n",
            "Acessing a element using key:\n",
            "MGM\n",
            "Acessing a element using get:\n",
            "JNEC\n"
          ],
          "name": "stdout"
        }
      ]
    },
    {
      "cell_type": "code",
      "metadata": {
        "id": "_6BpPSVzw4SC",
        "colab_type": "code",
        "outputId": "cbdc45b2-b287-4d4c-ee87-1ffd0ffd6832",
        "colab": {
          "base_uri": "https://localhost:8080/",
          "height": 306
        }
      },
      "source": [
        "# Initial Dictionary \n",
        "Dict = { 5 : 'Welcome', 6 : 'To', 7 : 'MGM', \n",
        "        'A' : {1 : 'CSE', 2 : 'Dept', 3 : 'JNEC'}, \n",
        "        'B' : {1 : 'Rocking', 2 : 'Life'}} \n",
        "print(\"Initial Dictionary: \") \n",
        "print(Dict) \n",
        "  \n",
        "# Deleting a Key value \n",
        "del Dict[6] \n",
        "print(\"\\nDeleting a specific key: \") \n",
        "print(Dict) \n",
        "  \n",
        "# Deleting a Key from \n",
        "# Nested Dictionary \n",
        "del Dict['A'][2] \n",
        "print(\"\\nDeleting a key from Nested Dictionary: \") \n",
        "print(Dict) \n",
        "  \n",
        "# Deleting a Key  \n",
        "# using pop() \n",
        "Dict.pop(5) \n",
        "print(\"\\nPopping specific element: \") \n",
        "print(Dict) \n",
        "  \n",
        "# Deleting an arbitrary Key-value pair \n",
        "# using popitem() \n",
        "Dict.popitem() \n",
        "print(\"\\nPops an arbitrary key-value pair: \") \n",
        "print(Dict) \n",
        "  \n",
        "# Deleting entire Dictionary \n",
        "Dict.clear() \n",
        "print(\"\\nDeleting Entire Dictionary: \") \n",
        "print(Dict) "
      ],
      "execution_count": 0,
      "outputs": [
        {
          "output_type": "stream",
          "text": [
            "Initial Dictionary: \n",
            "{5: 'Welcome', 6: 'To', 7: 'MGM', 'A': {1: 'CSE', 2: 'Dept', 3: 'JNEC'}, 'B': {1: 'Rocking', 2: 'Life'}}\n",
            "\n",
            "Deleting a specific key: \n",
            "{5: 'Welcome', 7: 'MGM', 'A': {1: 'CSE', 2: 'Dept', 3: 'JNEC'}, 'B': {1: 'Rocking', 2: 'Life'}}\n",
            "\n",
            "Deleting a key from Nested Dictionary: \n",
            "{5: 'Welcome', 7: 'MGM', 'A': {1: 'CSE', 3: 'JNEC'}, 'B': {1: 'Rocking', 2: 'Life'}}\n",
            "\n",
            "Popping specific element: \n",
            "{7: 'MGM', 'A': {1: 'CSE', 3: 'JNEC'}, 'B': {1: 'Rocking', 2: 'Life'}}\n",
            "\n",
            "Pops an arbitrary key-value pair: \n",
            "{7: 'MGM', 'A': {1: 'CSE', 3: 'JNEC'}}\n",
            "\n",
            "Deleting Entire Dictionary: \n",
            "{}\n"
          ],
          "name": "stdout"
        }
      ]
    }
  ]
}